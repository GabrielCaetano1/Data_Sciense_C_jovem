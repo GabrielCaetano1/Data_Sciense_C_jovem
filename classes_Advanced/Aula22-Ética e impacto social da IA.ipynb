{
 "cells": [
  {
   "cell_type": "markdown",
   "id": "fa72635a",
   "metadata": {
    "id": "fa72635a"
   },
   "source": [
    "\n",
    "### Objetivo: Explorar questões de viés e discriminação em modelos de IA e como mitigar problemas éticos."
   ]
  },
  {
   "cell_type": "markdown",
   "id": "a6eb5be6",
   "metadata": {
    "id": "a6eb5be6"
   },
   "source": [
    "## 1. Introdução\n",
    "\n",
    "Ética e Impacto Social da IA\n",
    "A Inteligência Artificial (IA) tem se tornado uma ferramenta essencial em diversas áreas, desde a saúde até o setor financeiro. No entanto, sua implementação nem sempre é justa. Modelos de IA podem perpetuar preconceitos existentes nos dados, influenciando decisões de forma discriminatória.\n",
    "\n",
    "Nesta aula, vamos explorar:\n",
    "\n",
    "- Introdução à Ética e IA\n",
    "- Como o viés pode surgir nos dados e como isso afeta os resultados de um modelo de IA.\n",
    "- Também discutiremos abordagens para mitigar esses impactos"
   ]
  },
  {
   "cell_type": "markdown",
   "id": "9468ab65",
   "metadata": {
    "id": "9468ab65"
   },
   "source": [
    "---"
   ]
  },
  {
   "cell_type": "markdown",
   "id": "3f05a0cd",
   "metadata": {
    "id": "3f05a0cd"
   },
   "source": [
    "## 2. Introdução à Ética e IA"
   ]
  },
  {
   "cell_type": "markdown",
   "id": "a963a7c2",
   "metadata": {
    "id": "a963a7c2"
   },
   "source": [
    "A Inteligência Artificial tem se tornado uma ferramenta poderosa, impactando diversos setores. No entanto,\n",
    "à medida que a IA avança, surgem desafios éticos fundamentais:\n",
    "\n",
    "1. Transparência e Explicabilidade: Modelos de IA frequentemente funcionam como caixas-pretas,\n",
    "   dificultando o entendimento das decisões tomadas. (Transparência: Decisões da IA devem ser compreensíveis).\n",
    "   \n",
    "2. Viés e Discriminação: Sistemas podem herdar e amplificar preconceitos presentes nos dados utilizados\n",
    "   no treinamento. (Justiça: Tratar todos de maneira equitativa).\n",
    "   \n",
    "3. Responsabilidade: Quem deve ser responsabilizado por erros cometidos pela IA? Desenvolvedores,\n",
    "   empresas ou usuários? (Desenvolvedores e usuários devem ser responsáveis).\n",
    "   \n",
    "4. Privacidade: Como os dados coletados são utilizados e protegidos? (Lei Geral de Proteção de Dados Pessoais - LGPD)"
   ]
  },
  {
   "cell_type": "markdown",
   "id": "72d54344",
   "metadata": {
    "id": "72d54344"
   },
   "source": [
    "---"
   ]
  },
  {
   "cell_type": "markdown",
   "id": "b626b086",
   "metadata": {
    "id": "b626b086"
   },
   "source": [
    "## 3. Viés e Discriminação em IA"
   ]
  },
  {
   "cell_type": "markdown",
   "id": "1ec61ab1",
   "metadata": {
    "id": "1ec61ab1"
   },
   "source": [
    "### O que é Viés Algorítmico?\n",
    "\n",
    "Viés em IA ocorre quando um modelo de aprendizado de máquina produz resultados sistematicamente tendenciosos, favorecendo ou prejudicando determinados grupos.\n",
    "\n",
    "Fatores que contribuem para o viés:\n",
    "\n",
    "    - Dados de treinamento enviesados\n",
    "    - Decisões de design do modelo\n",
    "    - Falta de representatividade nos dados"
   ]
  },
  {
   "cell_type": "markdown",
   "id": "7df451ab",
   "metadata": {
    "id": "7df451ab"
   },
   "source": [
    "### Exemplo Prático: Viés nos Dados"
   ]
  },
  {
   "cell_type": "markdown",
   "id": "cc58391b",
   "metadata": {
    "id": "cc58391b"
   },
   "source": [
    "Vamos simular um conjunto de dados que representa a aprovação de crédito baseado em idade, renda e gênero."
   ]
  },
  {
   "cell_type": "code",
   "execution_count": 1,
   "id": "f0a319af",
   "metadata": {
    "executionInfo": {
     "elapsed": 10047,
     "status": "ok",
     "timestamp": 1739976209946,
     "user": {
      "displayName": "Ivo Aguiar Pimenta",
      "userId": "02863166633362898286"
     },
     "user_tz": 180
    },
    "id": "f0a319af"
   },
   "outputs": [],
   "source": [
    "# Importação das Bibliotecas\n",
    "\n",
    "import numpy as np\n",
    "import pandas as pd\n",
    "from sklearn.model_selection import train_test_split\n",
    "from sklearn.preprocessing import StandardScaler\n",
    "from sklearn.metrics import accuracy_score, classification_report, confusion_matrix\n",
    "import matplotlib.pyplot as plt\n",
    "import seaborn as sns\n",
    "import tensorflow as tf\n",
    "from tensorflow import keras\n",
    "from tensorflow.keras.layers import SimpleRNN, Dense, Dropout"
   ]
  },
  {
   "cell_type": "code",
   "execution_count": 2,
   "id": "6a8914d8",
   "metadata": {
    "executionInfo": {
     "elapsed": 1,
     "status": "ok",
     "timestamp": 1739976209949,
     "user": {
      "displayName": "Ivo Aguiar Pimenta",
      "userId": "02863166633362898286"
     },
     "user_tz": 180
    },
    "id": "6a8914d8"
   },
   "outputs": [],
   "source": [
    "# Definição de semente aleatória para reprodutibilidade\n",
    "\n",
    "np.random.seed(42)\n",
    "tf.random.set_seed(42)"
   ]
  },
  {
   "cell_type": "markdown",
   "id": "ea887998",
   "metadata": {
    "id": "ea887998"
   },
   "source": [
    "### Simulação de um conjunto de dados com viés"
   ]
  },
  {
   "cell_type": "code",
   "execution_count": 3,
   "id": "18bd84ce",
   "metadata": {
    "colab": {
     "base_uri": "https://localhost:8080/",
     "height": 423
    },
    "executionInfo": {
     "elapsed": 194,
     "status": "ok",
     "timestamp": 1739976210144,
     "user": {
      "displayName": "Ivo Aguiar Pimenta",
      "userId": "02863166633362898286"
     },
     "user_tz": 180
    },
    "id": "18bd84ce",
    "outputId": "935621c7-28e2-4bb1-848e-e4270d267817",
    "scrolled": true
   },
   "outputs": [
    {
     "data": {
      "text/html": [
       "<div>\n",
       "<style scoped>\n",
       "    .dataframe tbody tr th:only-of-type {\n",
       "        vertical-align: middle;\n",
       "    }\n",
       "\n",
       "    .dataframe tbody tr th {\n",
       "        vertical-align: top;\n",
       "    }\n",
       "\n",
       "    .dataframe thead th {\n",
       "        text-align: right;\n",
       "    }\n",
       "</style>\n",
       "<table border=\"1\" class=\"dataframe\">\n",
       "  <thead>\n",
       "    <tr style=\"text-align: right;\">\n",
       "      <th></th>\n",
       "      <th>idade</th>\n",
       "      <th>renda</th>\n",
       "      <th>genero</th>\n",
       "      <th>aprovado</th>\n",
       "    </tr>\n",
       "  </thead>\n",
       "  <tbody>\n",
       "    <tr>\n",
       "      <th>0</th>\n",
       "      <td>56</td>\n",
       "      <td>7731</td>\n",
       "      <td>masculino</td>\n",
       "      <td>1</td>\n",
       "    </tr>\n",
       "    <tr>\n",
       "      <th>1</th>\n",
       "      <td>46</td>\n",
       "      <td>5244</td>\n",
       "      <td>masculino</td>\n",
       "      <td>0</td>\n",
       "    </tr>\n",
       "    <tr>\n",
       "      <th>2</th>\n",
       "      <td>32</td>\n",
       "      <td>3040</td>\n",
       "      <td>masculino</td>\n",
       "      <td>1</td>\n",
       "    </tr>\n",
       "    <tr>\n",
       "      <th>3</th>\n",
       "      <td>25</td>\n",
       "      <td>5127</td>\n",
       "      <td>masculino</td>\n",
       "      <td>1</td>\n",
       "    </tr>\n",
       "    <tr>\n",
       "      <th>4</th>\n",
       "      <td>38</td>\n",
       "      <td>4273</td>\n",
       "      <td>masculino</td>\n",
       "      <td>1</td>\n",
       "    </tr>\n",
       "    <tr>\n",
       "      <th>...</th>\n",
       "      <td>...</td>\n",
       "      <td>...</td>\n",
       "      <td>...</td>\n",
       "      <td>...</td>\n",
       "    </tr>\n",
       "    <tr>\n",
       "      <th>9995</th>\n",
       "      <td>26</td>\n",
       "      <td>5678</td>\n",
       "      <td>masculino</td>\n",
       "      <td>1</td>\n",
       "    </tr>\n",
       "    <tr>\n",
       "      <th>9996</th>\n",
       "      <td>58</td>\n",
       "      <td>6312</td>\n",
       "      <td>masculino</td>\n",
       "      <td>1</td>\n",
       "    </tr>\n",
       "    <tr>\n",
       "      <th>9997</th>\n",
       "      <td>35</td>\n",
       "      <td>2622</td>\n",
       "      <td>feminino</td>\n",
       "      <td>1</td>\n",
       "    </tr>\n",
       "    <tr>\n",
       "      <th>9998</th>\n",
       "      <td>46</td>\n",
       "      <td>6448</td>\n",
       "      <td>masculino</td>\n",
       "      <td>1</td>\n",
       "    </tr>\n",
       "    <tr>\n",
       "      <th>9999</th>\n",
       "      <td>56</td>\n",
       "      <td>6787</td>\n",
       "      <td>masculino</td>\n",
       "      <td>0</td>\n",
       "    </tr>\n",
       "  </tbody>\n",
       "</table>\n",
       "<p>10000 rows × 4 columns</p>\n",
       "</div>"
      ],
      "text/plain": [
       "      idade  renda     genero  aprovado\n",
       "0        56   7731  masculino         1\n",
       "1        46   5244  masculino         0\n",
       "2        32   3040  masculino         1\n",
       "3        25   5127  masculino         1\n",
       "4        38   4273  masculino         1\n",
       "...     ...    ...        ...       ...\n",
       "9995     26   5678  masculino         1\n",
       "9996     58   6312  masculino         1\n",
       "9997     35   2622   feminino         1\n",
       "9998     46   6448  masculino         1\n",
       "9999     56   6787  masculino         0\n",
       "\n",
       "[10000 rows x 4 columns]"
      ]
     },
     "execution_count": 3,
     "metadata": {},
     "output_type": "execute_result"
    }
   ],
   "source": [
    "# Criando um conjunto de dados altamente enviesado\n",
    "n_samples = 10000\n",
    "data = pd.DataFrame({\n",
    "    'idade': np.random.randint(18, 60, n_samples),\n",
    "    'renda': np.random.randint(2000, 10000, n_samples),\n",
    "    'genero': np.random.choice([\"masculino\", \"feminino\"], n_samples, p=[0.95, 0.05]),\n",
    "    'aprovado': np.random.choice([0, 1], n_samples, p=[0.2, 0.8])  # Viés: Homens têm alta taxa de aprovação\n",
    "})\n",
    "data"
   ]
  },
  {
   "cell_type": "code",
   "execution_count": 4,
   "id": "e8a29c34",
   "metadata": {
    "executionInfo": {
     "elapsed": 45,
     "status": "ok",
     "timestamp": 1739976210190,
     "user": {
      "displayName": "Ivo Aguiar Pimenta",
      "userId": "02863166633362898286"
     },
     "user_tz": 180
    },
    "id": "e8a29c34"
   },
   "outputs": [],
   "source": [
    "# Ajustando manualmente a taxa de aprovação para mulheres\n",
    "mask_feminino = data['genero'] == \"feminino\"\n",
    "data.loc[mask_feminino, 'aprovado'] = np.random.choice([0, 1], mask_feminino.sum(), p=[0.5, 0.5])"
   ]
  },
  {
   "cell_type": "code",
   "execution_count": 5,
   "id": "b64b2bec",
   "metadata": {
    "executionInfo": {
     "elapsed": 1,
     "status": "ok",
     "timestamp": 1739976210192,
     "user": {
      "displayName": "Ivo Aguiar Pimenta",
      "userId": "02863166633362898286"
     },
     "user_tz": 180
    },
    "id": "b64b2bec"
   },
   "outputs": [],
   "source": [
    "# Codificando a variável categórica de gênero\n",
    "data['genero'] = data['genero'].map({'masculino': 0, 'feminino': 1})"
   ]
  },
  {
   "cell_type": "code",
   "execution_count": 6,
   "id": "a63d36e7",
   "metadata": {
    "executionInfo": {
     "elapsed": 86,
     "status": "ok",
     "timestamp": 1739976210278,
     "user": {
      "displayName": "Ivo Aguiar Pimenta",
      "userId": "02863166633362898286"
     },
     "user_tz": 180
    },
    "id": "a63d36e7"
   },
   "outputs": [],
   "source": [
    "# Garantindo que todos os dados são numéricos\n",
    "data = data.astype({'idade': 'float32', 'renda': 'float32', 'genero': 'int32', 'aprovado': 'int32'})"
   ]
  },
  {
   "cell_type": "code",
   "execution_count": 7,
   "id": "86c12e76",
   "metadata": {
    "executionInfo": {
     "elapsed": 19,
     "status": "ok",
     "timestamp": 1739976210298,
     "user": {
      "displayName": "Ivo Aguiar Pimenta",
      "userId": "02863166633362898286"
     },
     "user_tz": 180
    },
    "id": "86c12e76"
   },
   "outputs": [],
   "source": [
    "# Normalizando as variáveis numéricas\n",
    "scaler = StandardScaler()\n",
    "data[['idade', 'renda']] = scaler.fit_transform(data[['idade', 'renda']])"
   ]
  },
  {
   "cell_type": "code",
   "execution_count": 8,
   "id": "d04d5235",
   "metadata": {
    "colab": {
     "base_uri": "https://localhost:8080/",
     "height": 411
    },
    "executionInfo": {
     "elapsed": 739,
     "status": "ok",
     "timestamp": 1739976211038,
     "user": {
      "displayName": "Ivo Aguiar Pimenta",
      "userId": "02863166633362898286"
     },
     "user_tz": 180
    },
    "id": "d04d5235",
    "outputId": "880f95c7-e893-4c87-df78-2de926588881",
    "scrolled": true
   },
   "outputs": [
    {
     "data": {
      "image/png": "[encoded data removed]",
      "text/plain": [
       "<Figure size 600x400 with 1 Axes>"
      ]
     },
     "metadata": {},
     "output_type": "display_data"
    }
   ],
   "source": [
    "# Visualizando a distribuição de aprovação por gênero\n",
    "plt.figure(figsize=(6, 4))\n",
    "sns.countplot(x='genero', hue='aprovado', data=data, palette='coolwarm')\n",
    "plt.title(\"Distribuição de Aprovação por Gênero (Viés Intencional)\")\n",
    "plt.xlabel(\"Gênero (0: Masculino, 1: Feminino)\")\n",
    "plt.ylabel(\"Contagem\")\n",
    "plt.show()"
   ]
  },
  {
   "cell_type": "markdown",
   "id": "d40b278c",
   "metadata": {
    "id": "d40b278c"
   },
   "source": [
    "O gráfico apresenta a distribuição da aprovação com base no gênero, codificado como:\n",
    "\n",
    "- 0 = Masculino\n",
    "- 1 = Feminino\n",
    "\n",
    "A cor azul representa indivíduos não aprovados (0), enquanto a cor salmão representa indivíduos aprovados (1).\n",
    "\n",
    "**Principais Observações**\n",
    "\n",
    "- Desproporção na representação dos gêneros\n",
    "\n",
    "Há muito mais indivíduos do gênero masculino (0) do que do gênero feminino (1) no conjunto de dados.\n",
    "Isso indica um possível desequilíbrio na amostra, onde os dados contêm 85% de homens e apenas 15% de mulheres.\n",
    "\n",
    "- Diferença na taxa de aprovação entre os gêneros\n",
    "\n",
    "Para homens (0): O número de aprovados é significativamente maior do que o número de não aprovados.\n",
    "\n",
    "Para mulheres (1): A taxa de aprovação parece ser menor, o que pode indicar um possível viés na decisão de aprovação.\n",
    "\n",
    "- Possível viés do modelo ou na coleta dos dados\n",
    "\n",
    "Se a IA aprende padrões a partir desses dados, pode haver um viés contra mulheres, pois a representação menor desse grupo pode levar a um modelo menos preciso para elas. O coeficiente do modelo para o gênero pode confirmar esse viés.\n",
    "\n",
    "**Conclusões**\n",
    "\n",
    "- Desequilíbrio nos dados: Como há mais homens do que mulheres, a IA pode aprender um viés implícito favorecendo a maior classe.\n",
    "\n",
    "- Taxa de aprovação diferente: Se os homens estão sendo aprovados mais frequentemente do que as mulheres, é necessário investigar as razões e ajustar o modelo ou a coleta, se necessário.\n",
    "\n",
    "**Próximos passos recomendados**\n",
    "\n",
    "- Aplicar balanceamento de dados (ex: oversampling para aumentar a presença feminina nos dados).\n",
    "\n",
    "- Avaliar os coeficientes do modelo para entender o impacto real do gênero nas previsões.\n",
    "\n",
    "- Rodar testes adicionais para verificar se a IA está tomando decisões justas."
   ]
  },
  {
   "cell_type": "markdown",
   "id": "66ab7f63",
   "metadata": {
    "id": "66ab7f63"
   },
   "source": [
    "### Treinamento de um Modelo de Machine Learning"
   ]
  },
  {
   "cell_type": "markdown",
   "id": "d1015dc5",
   "metadata": {
    "id": "d1015dc5"
   },
   "source": [
    "\n",
    "Agora, vamos treinar um modelo de regressão logística para prever se um candidato será aprovado com base em idade e renda\n"
   ]
  },
  {
   "cell_type": "code",
   "execution_count": 9,
   "id": "de3b1d9c",
   "metadata": {
    "executionInfo": {
     "elapsed": 1,
     "status": "ok",
     "timestamp": 1739976211041,
     "user": {
      "displayName": "Ivo Aguiar Pimenta",
      "userId": "02863166633362898286"
     },
     "user_tz": 180
    },
    "id": "de3b1d9c"
   },
   "outputs": [],
   "source": [
    "# Separando variáveis\n",
    "X = data[['idade', 'renda', 'genero']]\n",
    "y = data['aprovado']"
   ]
  },
  {
   "cell_type": "code",
   "execution_count": 10,
   "id": "82a18dba",
   "metadata": {
    "executionInfo": {
     "elapsed": 4,
     "status": "ok",
     "timestamp": 1739976211046,
     "user": {
      "displayName": "Ivo Aguiar Pimenta",
      "userId": "02863166633362898286"
     },
     "user_tz": 180
    },
    "id": "82a18dba"
   },
   "outputs": [],
   "source": [
    "# Dividindo os dados\n",
    "X_train, X_test, y_train, y_test = train_test_split(X, y, test_size=0.2, random_state=42)"
   ]
  },
  {
   "cell_type": "code",
   "execution_count": 11,
   "id": "2f7672df",
   "metadata": {
    "executionInfo": {
     "elapsed": 8,
     "status": "ok",
     "timestamp": 1739976211056,
     "user": {
      "displayName": "Ivo Aguiar Pimenta",
      "userId": "02863166633362898286"
     },
     "user_tz": 180
    },
    "id": "2f7672df"
   },
   "outputs": [],
   "source": [
    "# Remodelando os dados para a rede neural recorrente\n",
    "X_train_rnn = np.reshape(X_train.values, (X_train.shape[0], 1, X_train.shape[1])).astype('float32')\n",
    "X_test_rnn = np.reshape(X_test.values, (X_test.shape[0], 1, X_test.shape[1])).astype('float32')"
   ]
  },
  {
   "cell_type": "code",
   "execution_count": 12,
   "id": "16ae7e78",
   "metadata": {
    "colab": {
     "base_uri": "https://localhost:8080/",
     "height": 90
    },
    "executionInfo": {
     "elapsed": 25,
     "status": "ok",
     "timestamp": 1739976211082,
     "user": {
      "displayName": "Ivo Aguiar Pimenta",
      "userId": "02863166633362898286"
     },
     "user_tz": 180
    },
    "id": "16ae7e78",
    "outputId": "b80cca2f-23e0-4e14-c940-85c1f176c7ed",
    "scrolled": true
   },
   "outputs": [
    {
     "name": "stderr",
     "output_type": "stream",
     "text": [
      "c:\\Users\\IvoAg\\AppData\\Local\\Programs\\Python\\Python311\\Lib\\site-packages\\keras\\src\\layers\\rnn\\rnn.py:204: UserWarning: Do not pass an `input_shape`/`input_dim` argument to a layer. When using Sequential models, prefer using an `Input(shape)` object as the first layer in the model instead.\n",
      "  super().__init__(**kwargs)\n"
     ]
    },
    {
     "data": {
      "text/plain": [
       "'\\nUso da função de ativação ReLU e saída sigmoid para previsão binária.\\n'"
      ]
     },
     "execution_count": 12,
     "metadata": {},
     "output_type": "execute_result"
    }
   ],
   "source": [
    "# Criando uma rede neural recorrente\n",
    "model_rnn = keras.Sequential([\n",
    "    SimpleRNN(32, activation='relu', return_sequences=True, input_shape=(1, X_train.shape[1])),\n",
    "    Dropout(0.2),\n",
    "    SimpleRNN(16, activation='relu'),\n",
    "    Dense(1, activation='sigmoid')\n",
    "])\n",
    "'''\n",
    "Uso da função de ativação ReLU e saída sigmoid para previsão binária.\n",
    "'''"
   ]
  },
  {
   "cell_type": "code",
   "execution_count": 13,
   "id": "c4edf5a6",
   "metadata": {
    "executionInfo": {
     "elapsed": 18,
     "status": "ok",
     "timestamp": 1739976211108,
     "user": {
      "displayName": "Ivo Aguiar Pimenta",
      "userId": "02863166633362898286"
     },
     "user_tz": 180
    },
    "id": "c4edf5a6"
   },
   "outputs": [],
   "source": [
    "# Compilando o modelo\n",
    "model_rnn.compile(optimizer='adam', loss='binary_crossentropy', metrics=['accuracy'])"
   ]
  },
  {
   "cell_type": "code",
   "execution_count": 14,
   "id": "6d090684",
   "metadata": {
    "colab": {
     "base_uri": "https://localhost:8080/"
    },
    "executionInfo": {
     "elapsed": 29055,
     "status": "ok",
     "timestamp": 1739976240164,
     "user": {
      "displayName": "Ivo Aguiar Pimenta",
      "userId": "02863166633362898286"
     },
     "user_tz": 180
    },
    "id": "6d090684",
    "outputId": "7e16b275-e075-453c-f755-ae6339115528"
   },
   "outputs": [
    {
     "name": "stdout",
     "output_type": "stream",
     "text": [
      "Epoch 1/20\n",
      "\u001b[1m250/250\u001b[0m \u001b[32m━━━━━━━━━━━━━━━━━━━━\u001b[0m\u001b[37m\u001b[0m \u001b[1m2s\u001b[0m 3ms/step - accuracy: 0.7562 - loss: 0.5785 - val_accuracy: 0.7645 - val_loss: 0.5471\n",
      "Epoch 2/20\n",
      "\u001b[1m250/250\u001b[0m \u001b[32m━━━━━━━━━━━━━━━━━━━━\u001b[0m\u001b[37m\u001b[0m \u001b[1m0s\u001b[0m 1ms/step - accuracy: 0.7999 - loss: 0.5069 - val_accuracy: 0.7645 - val_loss: 0.5407\n",
      "Epoch 3/20\n",
      "\u001b[1m250/250\u001b[0m \u001b[32m━━━━━━━━━━━━━━━━━━━━\u001b[0m\u001b[37m\u001b[0m \u001b[1m0s\u001b[0m 1ms/step - accuracy: 0.7998 - loss: 0.4984 - val_accuracy: 0.7645 - val_loss: 0.5375\n",
      "Epoch 4/20\n",
      "\u001b[1m250/250\u001b[0m \u001b[32m━━━━━━━━━━━━━━━━━━━━\u001b[0m\u001b[37m\u001b[0m \u001b[1m0s\u001b[0m 1ms/step - accuracy: 0.7992 - loss: 0.4956 - val_accuracy: 0.7650 - val_loss: 0.5367\n",
      "Epoch 5/20\n",
      "\u001b[1m250/250\u001b[0m \u001b[32m━━━━━━━━━━━━━━━━━━━━\u001b[0m\u001b[37m\u001b[0m \u001b[1m0s\u001b[0m 2ms/step - accuracy: 0.7997 - loss: 0.4949 - val_accuracy: 0.7635 - val_loss: 0.5356\n",
      "Epoch 6/20\n",
      "\u001b[1m250/250\u001b[0m \u001b[32m━━━━━━━━━━━━━━━━━━━━\u001b[0m\u001b[37m\u001b[0m \u001b[1m0s\u001b[0m 2ms/step - accuracy: 0.7985 - loss: 0.4912 - val_accuracy: 0.7620 - val_loss: 0.5356\n",
      "Epoch 7/20\n",
      "\u001b[1m250/250\u001b[0m \u001b[32m━━━━━━━━━━━━━━━━━━━━\u001b[0m\u001b[37m\u001b[0m \u001b[1m0s\u001b[0m 1ms/step - accuracy: 0.7998 - loss: 0.4904 - val_accuracy: 0.7655 - val_loss: 0.5350\n",
      "Epoch 8/20\n",
      "\u001b[1m250/250\u001b[0m \u001b[32m━━━━━━━━━━━━━━━━━━━━\u001b[0m\u001b[37m\u001b[0m \u001b[1m0s\u001b[0m 1ms/step - accuracy: 0.7988 - loss: 0.4901 - val_accuracy: 0.7645 - val_loss: 0.5355\n",
      "Epoch 9/20\n",
      "\u001b[1m250/250\u001b[0m \u001b[32m━━━━━━━━━━━━━━━━━━━━\u001b[0m\u001b[37m\u001b[0m \u001b[1m0s\u001b[0m 1ms/step - accuracy: 0.8014 - loss: 0.4915 - val_accuracy: 0.7650 - val_loss: 0.5352\n",
      "Epoch 10/20\n",
      "\u001b[1m250/250\u001b[0m \u001b[32m━━━━━━━━━━━━━━━━━━━━\u001b[0m\u001b[37m\u001b[0m \u001b[1m0s\u001b[0m 2ms/step - accuracy: 0.8024 - loss: 0.4913 - val_accuracy: 0.7620 - val_loss: 0.5344\n",
      "Epoch 11/20\n",
      "\u001b[1m250/250\u001b[0m \u001b[32m━━━━━━━━━━━━━━━━━━━━\u001b[0m\u001b[37m\u001b[0m \u001b[1m0s\u001b[0m 2ms/step - accuracy: 0.8020 - loss: 0.4901 - val_accuracy: 0.7630 - val_loss: 0.5346\n",
      "Epoch 12/20\n",
      "\u001b[1m250/250\u001b[0m \u001b[32m━━━━━━━━━━━━━━━━━━━━\u001b[0m\u001b[37m\u001b[0m \u001b[1m0s\u001b[0m 2ms/step - accuracy: 0.8011 - loss: 0.4899 - val_accuracy: 0.7615 - val_loss: 0.5344\n",
      "Epoch 13/20\n",
      "\u001b[1m250/250\u001b[0m \u001b[32m━━━━━━━━━━━━━━━━━━━━\u001b[0m\u001b[37m\u001b[0m \u001b[1m0s\u001b[0m 1ms/step - accuracy: 0.8045 - loss: 0.4892 - val_accuracy: 0.7630 - val_loss: 0.5345\n",
      "Epoch 14/20\n",
      "\u001b[1m250/250\u001b[0m \u001b[32m━━━━━━━━━━━━━━━━━━━━\u001b[0m\u001b[37m\u001b[0m \u001b[1m0s\u001b[0m 1ms/step - accuracy: 0.8017 - loss: 0.4896 - val_accuracy: 0.7625 - val_loss: 0.5350\n",
      "Epoch 15/20\n",
      "\u001b[1m250/250\u001b[0m \u001b[32m━━━━━━━━━━━━━━━━━━━━\u001b[0m\u001b[37m\u001b[0m \u001b[1m0s\u001b[0m 1ms/step - accuracy: 0.8055 - loss: 0.4878 - val_accuracy: 0.7610 - val_loss: 0.5346\n",
      "Epoch 16/20\n",
      "\u001b[1m250/250\u001b[0m \u001b[32m━━━━━━━━━━━━━━━━━━━━\u001b[0m\u001b[37m\u001b[0m \u001b[1m0s\u001b[0m 1ms/step - accuracy: 0.8015 - loss: 0.4889 - val_accuracy: 0.7610 - val_loss: 0.5345\n",
      "Epoch 17/20\n",
      "\u001b[1m250/250\u001b[0m \u001b[32m━━━━━━━━━━━━━━━━━━━━\u001b[0m\u001b[37m\u001b[0m \u001b[1m0s\u001b[0m 1ms/step - accuracy: 0.8029 - loss: 0.4896 - val_accuracy: 0.7615 - val_loss: 0.5346\n",
      "Epoch 18/20\n",
      "\u001b[1m250/250\u001b[0m \u001b[32m━━━━━━━━━━━━━━━━━━━━\u001b[0m\u001b[37m\u001b[0m \u001b[1m0s\u001b[0m 2ms/step - accuracy: 0.8045 - loss: 0.4900 - val_accuracy: 0.7645 - val_loss: 0.5343\n",
      "Epoch 19/20\n",
      "\u001b[1m250/250\u001b[0m \u001b[32m━━━━━━━━━━━━━━━━━━━━\u001b[0m\u001b[37m\u001b[0m \u001b[1m0s\u001b[0m 1ms/step - accuracy: 0.8055 - loss: 0.4891 - val_accuracy: 0.7635 - val_loss: 0.5346\n",
      "Epoch 20/20\n",
      "\u001b[1m250/250\u001b[0m \u001b[32m━━━━━━━━━━━━━━━━━━━━\u001b[0m\u001b[37m\u001b[0m \u001b[1m0s\u001b[0m 2ms/step - accuracy: 0.8003 - loss: 0.4904 - val_accuracy: 0.7650 - val_loss: 0.5345\n"
     ]
    }
   ],
   "source": [
    "# Treinando a rede neural\n",
    "history = model_rnn.fit(X_train_rnn, y_train, epochs=20, batch_size=32, validation_data=(X_test_rnn, y_test))"
   ]
  },
  {
   "cell_type": "code",
   "execution_count": 15,
   "id": "4aa6ebca",
   "metadata": {
    "colab": {
     "base_uri": "https://localhost:8080/"
    },
    "executionInfo": {
     "elapsed": 217,
     "status": "ok",
     "timestamp": 1739976240382,
     "user": {
      "displayName": "Ivo Aguiar Pimenta",
      "userId": "02863166633362898286"
     },
     "user_tz": 180
    },
    "id": "4aa6ebca",
    "outputId": "85788451-02e0-48af-8dd8-775fa622850a",
    "scrolled": true
   },
   "outputs": [
    {
     "name": "stdout",
     "output_type": "stream",
     "text": [
      "\u001b[1m63/63\u001b[0m \u001b[32m━━━━━━━━━━━━━━━━━━━━\u001b[0m\u001b[37m\u001b[0m \u001b[1m0s\u001b[0m 734us/step - accuracy: 0.7538 - loss: 0.5455\n",
      "Precisão do modelo RNN: 0.76\n"
     ]
    }
   ],
   "source": [
    "# Avaliando o modelo\n",
    "loss, accuracy = model_rnn.evaluate(X_test_rnn, y_test)\n",
    "print(f'Precisão do modelo RNN: {accuracy:.2f}')"
   ]
  },
  {
   "cell_type": "code",
   "execution_count": 16,
   "id": "6c0160cb",
   "metadata": {
    "colab": {
     "base_uri": "https://localhost:8080/"
    },
    "executionInfo": {
     "elapsed": 827,
     "status": "ok",
     "timestamp": 1739976241210,
     "user": {
      "displayName": "Ivo Aguiar Pimenta",
      "userId": "02863166633362898286"
     },
     "user_tz": 180
    },
    "id": "6c0160cb",
    "outputId": "1c5251b8-05d8-41a3-a093-4cfcb7b4ea2b"
   },
   "outputs": [
    {
     "name": "stdout",
     "output_type": "stream",
     "text": [
      "\u001b[1m63/63\u001b[0m \u001b[32m━━━━━━━━━━━━━━━━━━━━\u001b[0m\u001b[37m\u001b[0m \u001b[1m0s\u001b[0m 4ms/step\n"
     ]
    }
   ],
   "source": [
    "# Gerando inferências para análise de viés\n",
    "predictions = model_rnn.predict(X_test_rnn)\n",
    "predictions = (predictions > 0.5).astype(int)"
   ]
  },
  {
   "cell_type": "code",
   "execution_count": 17,
   "id": "1466eb8e",
   "metadata": {
    "colab": {
     "base_uri": "https://localhost:8080/",
     "height": 487
    },
    "executionInfo": {
     "elapsed": 366,
     "status": "ok",
     "timestamp": 1739976241577,
     "user": {
      "displayName": "Ivo Aguiar Pimenta",
      "userId": "02863166633362898286"
     },
     "user_tz": 180
    },
    "id": "1466eb8e",
    "outputId": "f28cf87e-34c5-482c-ce86-fba42392e926",
    "scrolled": true
   },
   "outputs": [
    {
     "data": {
      "image/png": "[encoded data removed]",
      "text/plain": [
       "<Figure size 500x500 with 2 Axes>"
      ]
     },
     "metadata": {},
     "output_type": "display_data"
    }
   ],
   "source": [
    "# Matriz de confusão\n",
    "cm = confusion_matrix(y_test, predictions)\n",
    "plt.figure(figsize=(5,5))\n",
    "sns.heatmap(cm, annot=True, fmt='d', cmap='Blues', xticklabels=['Não Aprovado', 'Aprovado'], yticklabels=['Não Aprovado', 'Aprovado'])\n",
    "plt.xlabel(\"Valores Preditos\")\n",
    "plt.ylabel(\"Valores Reais\")\n",
    "plt.title(\"Matriz de Confusão\")\n",
    "plt.show()"
   ]
  },
  {
   "cell_type": "code",
   "execution_count": 18,
   "id": "a6527f3e",
   "metadata": {
    "colab": {
     "base_uri": "https://localhost:8080/"
    },
    "executionInfo": {
     "elapsed": 5,
     "status": "ok",
     "timestamp": 1739976241583,
     "user": {
      "displayName": "Ivo Aguiar Pimenta",
      "userId": "02863166633362898286"
     },
     "user_tz": 180
    },
    "id": "a6527f3e",
    "outputId": "5cb7bc39-9045-4aa9-9886-8542294d3c23",
    "scrolled": true
   },
   "outputs": [
    {
     "name": "stdout",
     "output_type": "stream",
     "text": [
      "Relatório de Classificação:\n",
      "              precision    recall  f1-score   support\n",
      "\n",
      "           0       0.51      0.06      0.10       471\n",
      "           1       0.77      0.98      0.86      1529\n",
      "\n",
      "    accuracy                           0.77      2000\n",
      "   macro avg       0.64      0.52      0.48      2000\n",
      "weighted avg       0.71      0.77      0.69      2000\n",
      "\n"
     ]
    }
   ],
   "source": [
    "# Relatório de classificação\n",
    "print(\"Relatório de Classificação:\")\n",
    "print(classification_report(y_test, predictions))"
   ]
  },
  {
   "cell_type": "markdown",
   "id": "696183f2",
   "metadata": {
    "id": "696183f2"
   },
   "source": [
    "**Análise do Relatório de Classificação**\n",
    "\n",
    "O relatório de classificação contém métricas que avaliam o desempenho do modelo na predição das classes (0 = não aprovado, 1 = aprovado):\n",
    "\n",
    "1. Métricas para cada classe\n",
    "A tabela contém métricas individuais para cada classe:\n",
    "\n",
    "Explicação das métricas\n",
    "\n",
    "- Precision (Precisão): Indica quantos dos que foram previstos como aprovados realmente são aprovados.\n",
    "- Recall (Sensibilidade ou Revocação): Mede quantos dos aprovados reais foram corretamente identificados.\n",
    "- F1-score: Média harmônica entre precisão e recall, mostrando um equilíbrio entre ambos.\n",
    "- Support: O número real de exemplos em cada classe.\n",
    "\n",
    "O que os valores mostram?\n",
    "\n",
    "- Para a classe 0 (Não Aprovado):\n",
    "\n",
    "A precisão é baixa (0.49), o que significa que muitos dos casos previstos como \"não aprovados\" estavam errados.\n",
    "\n",
    "O recall é muito baixo (0.07), indicando que o modelo não consegue identificar corretamente os não aprovados.\n",
    "\n",
    "Isso significa que o modelo tende a prever mais aprovações do que rejeições.\n",
    "\n",
    "- Para a classe 1 (Aprovado)\n",
    "\n",
    "A precisão é alta (0.77), então a maioria dos casos previstos como \"aprovado\" estavam corretos.\n",
    "\n",
    "O recall é extremamente alto (0.98), indicando que quase todos os verdadeiros aprovados foram identificados corretamente.\n",
    "\n",
    "Isso confirma que o modelo aprendeu a favorecer a classe \"Aprovado\".\n",
    "\n",
    "\n",
    "2. Avaliação Geral do Modelo\n",
    "A tabela também apresenta métricas globais:\n",
    "\n",
    "Métrica\t                      Valor\n",
    "\n",
    "Accuracy (Acurácia)\t    0.76\n",
    "\n",
    "Macro Avg Precision  \t0.63\n",
    "\n",
    "Macro Avg Recall\t    0.52\n",
    "\n",
    "Macro Avg F1-score\t    0.49\n",
    "\n",
    "Weighted Avg Precision\t0.71\n",
    "\n",
    "Weighted Avg Recall\t    0.76\n",
    "\n",
    "Weighted Avg F1-score\t0.69\n",
    "\n",
    "Explicação\n",
    "\n",
    "- Accuracy (Acurácia): O modelo tem uma taxa geral de acerto de 76%.\n",
    "- Macro Average: Média aritmética das métricas para as duas classes, tratando ambas igualmente.\n",
    "- Weighted Average: Média ponderada de cada métrica, levando em conta a quantidade de exemplos em cada classe.\n",
    "\n",
    "O que os valores mostram?\n",
    "\n",
    "- O Macro Avg Recall (0.52) e o Macro Avg F1-score (0.49) são baixos, o que indica que o modelo tem dificuldade em equilibrar as previsões entre as classes.\n",
    "\n",
    "- O modelo favorece a classe \"Aprovado\" (1), pois a precisão e recall para \"Não Aprovado\" (0) são muito baixas.\n"
   ]
  },
  {
   "cell_type": "code",
   "execution_count": 19,
   "id": "449e31ed",
   "metadata": {
    "colab": {
     "base_uri": "https://localhost:8080/"
    },
    "executionInfo": {
     "elapsed": 12,
     "status": "ok",
     "timestamp": 1739976241596,
     "user": {
      "displayName": "Ivo Aguiar Pimenta",
      "userId": "02863166633362898286"
     },
     "user_tz": 180
    },
    "id": "449e31ed",
    "outputId": "8fad96a5-104e-4305-ed73-423800b49977"
   },
   "outputs": [
    {
     "name": "stdout",
     "output_type": "stream",
     "text": [
      "Taxa média de aprovação por gênero:\n",
      "genero\n",
      "0    0.801686\n",
      "1    0.482353\n",
      "Name: aprovado, dtype: float64\n"
     ]
    }
   ],
   "source": [
    "# Comparação de taxas de aprovação por gênero\n",
    "approval_rates = data.groupby('genero')['aprovado'].mean()\n",
    "print(\"Taxa média de aprovação por gênero:\")\n",
    "print(approval_rates)\n"
   ]
  },
  {
   "cell_type": "markdown",
   "id": "d29591c8",
   "metadata": {
    "id": "d29591c8"
   },
   "source": [
    "#### Justificativa do Viés nos Dados\n",
    "\n",
    "Os resultados da taxa média de aprovação por gênero revelam um viés significativo:\n",
    "\n",
    "- Homens (Gênero = 0) → 80,17% de aprovação\n",
    "- Mulheres (Gênero = 1) → 48,24% de aprovação\n",
    "\n",
    "**Isso indica que homens são aprovados muito mais frequentemente do que mulheres.**\n",
    "\n",
    "1. O que esse viés significa?\n",
    "\n",
    "- O modelo aprendeu padrões dos dados de treinamento, onde 95% dos registros pertenciam a homens e sua taxa de aprovação foi artificialmente aumentada para 80%.\n",
    "\n",
    "- As mulheres, representando apenas 5% dos dados, tiveram uma taxa de aprovação forçada para 50%, fazendo com que o modelo se tornasse menos preciso ao prever aprovações para mulheres.\n",
    "\n",
    "**Isso mostra como a distribuição inicial dos dados influencia diretamente as decisões do modelo.**\n",
    "\n",
    "\n",
    "2. Impacto no Modelo\n",
    "O modelo de IA treinado pode:\n",
    "\n",
    "- Favorecer homens injustamente na aprovação, pois aprendeu que a maioria dos aprovados eram do gênero masculino.\n",
    "- Ser menos preciso para mulheres, já que havia poucos exemplos de mulheres no conjunto de dados de treinamento, tornando a predição menos confiável.\n",
    "\n",
    "**Reforçar desigualdades históricas, caso seja usado para decisões importantes, como recrutamento ou crédito.**\n",
    "\n",
    "\n",
    "3. Como corrigir esse viés?\n",
    "Para tornar o modelo mais justo, podemos adotar as seguintes estratégias:\n",
    "\n",
    "- Rebalanceamento dos dados:\n",
    "\n",
    "Aumentar artificialmente o número de amostras femininas usando oversampling (ex: SMOTE).\n",
    "Reduzir o número de amostras masculinas para equilibrar as classes.\n",
    "\n",
    "\n",
    "- Mudança na estratégia de treinamento:\n",
    "\n",
    "Usar pesos diferentes para classes desbalanceadas, ajustando a função de custo do modelo.\n",
    "Criar um modelo separado para cada gênero e depois comparar os resultados.\n",
    "\n",
    "\n",
    "- Avaliação contínua do viés:\n",
    "\n",
    "Implementar métricas que monitorem se as decisões do modelo favorecem desproporcionalmente um grupo.\n",
    "Medir a precisão do modelo separadamente para cada gênero.\n",
    "\n",
    "\n",
    "#### Conclusão\n",
    "\n",
    "- O modelo aprendeu um viés estrutural presente nos dados, favorecendo os homens na aprovação.\n",
    "\n",
    "- Se fosse usado em cenários reais, poderia levar a decisões injustas e discriminatórias.\n",
    "\n",
    "- Corrigir esse viés requer ajustes nos dados e no treinamento do modelo."
   ]
  },
  {
   "cell_type": "markdown",
   "id": "a4105ef7",
   "metadata": {
    "id": "a4105ef7"
   },
   "source": [
    "- O modelo tende a aprovar a maioria das pessoas e tem dificuldade em identificar corretamente os não aprovados.\n",
    "\n",
    "- Esse comportamento pode estar relacionado ao viés nos dados de treinamento, onde a maioria dos exemplos eram de aprovados.\n",
    "\n",
    "- Como os homens tiveram uma taxa de aprovação muito maior no conjunto de dados, o modelo aprendeu a favorecer essa classe, reforçando a desigualdade.\n",
    "\n",
    "💡 Correção recomendada:\n",
    "\n",
    "- Balanceamento de classes: Usar técnicas como undersampling dos aprovados ou oversampling dos não aprovados para reduzir a discrepância.\n",
    "\n",
    "- Ajuste da função de custo: Penalizar mais os erros na classe não aprovado (0) para forçar o modelo a aprender melhor essa categoria.\n",
    "\n",
    "- Auditorias frequentes para garantir que o modelo não continue reforçando esse viés."
   ]
  },
  {
   "cell_type": "markdown",
   "id": "d3b67c1b",
   "metadata": {
    "id": "d3b67c1b"
   },
   "source": [
    "---"
   ]
  },
  {
   "cell_type": "markdown",
   "id": "91107a3b",
   "metadata": {
    "id": "91107a3b"
   },
   "source": [
    "\n",
    "1️⃣ Correção do Desbalanceamento dos Dados\n",
    "\n",
    "📌 Problema:\n",
    "\n",
    "O conjunto de dados original era altamente enviesado:\n",
    "\n",
    "95% dos registros eram de homens e apenas 5% de mulheres.\n",
    "A taxa de aprovação masculina foi ajustada para 80%, enquanto as mulheres tinham apenas 50%.\n",
    "Isso fez com que o modelo aprendesse a aprovar majoritariamente os homens, resultando em viés.\n",
    "\n",
    "✅ Solução: Balanceamento dos Dados\n",
    "\n",
    "A correção foi feita com Oversampling (aumentando a quantidade de registros femininos até igualar a quantidade de registros masculinos). Isso foi realizado com a função resample() do sklearn.utils."
   ]
  },
  {
   "cell_type": "code",
   "execution_count": null,
   "id": "c2d4c30e",
   "metadata": {
    "colab": {
     "base_uri": "https://localhost:8080/"
    },
    "executionInfo": {
     "elapsed": 5,
     "status": "ok",
     "timestamp": 1739976241600,
     "user": {
      "displayName": "Ivo Aguiar Pimenta",
      "userId": "02863166633362898286"
     },
     "user_tz": 180
    },
    "id": "c2d4c30e",
    "outputId": "d8ab400d-2e7f-4ccb-b56a-84f355debd34"
   },
   "outputs": [
    {
     "name": "stdout",
     "output_type": "stream",
     "text": [
      "genero\n",
      "0    9490\n",
      "1    9490\n",
      "Name: count, dtype: int64\n"
     ]
    }
   ],
   "source": [
    "from sklearn.utils import resample\n",
    "\n",
    "# Separando as classes majoritária (homens) e minoritária (mulheres)\n",
    "data_minority = data[data['genero'] == 1]  # Mulheres\n",
    "data_majority = data[data['genero'] == 0]  # Homens\n",
    "\n",
    "# Aplicando oversampling: replicando registros da classe minoritária até igualar a classe majoritária\n",
    "data_minority_upsampled = resample(\n",
    "    data_minority,\n",
    "    replace=True,  # Permite duplicação dos dados\n",
    "    n_samples=len(data_majority),  # Número de amostras igual à classe majoritária\n",
    "    random_state=42\n",
    ")\n",
    "\n",
    "# Criando um novo dataset balanceado\n",
    "data_balanced = pd.concat([data_majority, data_minority_upsampled])\n",
    "\n",
    "# Garantindo que todos os dados são numéricos\n",
    "data_balanced = data_balanced.astype({'idade': 'float32', 'renda': 'float32', 'genero': 'int32', 'aprovado': 'int32'})\n",
    "\n",
    "# Checando a nova distribuição de gênero\n",
    "print(data_balanced['genero'].value_counts())  # Agora homens e mulheres têm quantidades iguais\n"
   ]
  },
  {
   "cell_type": "markdown",
   "id": "e8ef0dcb",
   "metadata": {
    "id": "e8ef0dcb"
   },
   "source": [
    "Após o código:\n",
    "\n",
    "- Aumenta o número de mulheres no dataset até ficar igual ao número de homens.\n",
    "\n",
    "- Agora o modelo não pode aprender um padrão enviesado, pois os exemplos femininos estão mais representados."
   ]
  },
  {
   "cell_type": "markdown",
   "id": "ef8c7722",
   "metadata": {
    "id": "ef8c7722"
   },
   "source": [
    "---"
   ]
  },
  {
   "cell_type": "markdown",
   "id": "42a9b68c",
   "metadata": {
    "id": "42a9b68c"
   },
   "source": [
    "2️⃣ Normalização das Variáveis\n",
    "\n",
    "Após o balanceamento, as variáveis numéricas (idade e renda) foram normalizadas para evitar que escalas diferentes impactassem o treinamento."
   ]
  },
  {
   "cell_type": "code",
   "execution_count": 21,
   "id": "8a359c0c",
   "metadata": {
    "executionInfo": {
     "elapsed": 28,
     "status": "ok",
     "timestamp": 1739976241628,
     "user": {
      "displayName": "Ivo Aguiar Pimenta",
      "userId": "02863166633362898286"
     },
     "user_tz": 180
    },
    "id": "8a359c0c"
   },
   "outputs": [],
   "source": [
    "from sklearn.preprocessing import StandardScaler\n",
    "\n",
    "# Normalizando as variáveis numéricas\n",
    "scaler = StandardScaler()\n",
    "data_balanced[['idade', 'renda']] = scaler.fit_transform(data_balanced[['idade', 'renda']])"
   ]
  },
  {
   "cell_type": "markdown",
   "id": "6af24fb9",
   "metadata": {
    "id": "6af24fb9"
   },
   "source": [
    "Importante:\n",
    "\n",
    "Garante que todas as variáveis tenham a mesma escala, evitando que o modelo dê mais importância para valores absolutos maiores.\n",
    "Melhora a estabilidade do treinamento da rede neural."
   ]
  },
  {
   "cell_type": "markdown",
   "id": "9ceba0ed",
   "metadata": {
    "id": "9ceba0ed"
   },
   "source": [
    "---"
   ]
  },
  {
   "cell_type": "markdown",
   "id": "cba8aadf",
   "metadata": {
    "id": "cba8aadf"
   },
   "source": [
    "3️⃣ Treinamento da Rede Neural Após as Correções\n",
    "\n",
    "Após o balanceamento dos dados, a rede neural foi re-treinada com a base corrigida. O formato dos dados foi ajustado para ser compatível com Redes Neurais Recorrentes (RNN)."
   ]
  },
  {
   "cell_type": "code",
   "execution_count": 22,
   "id": "57b361cc",
   "metadata": {
    "colab": {
     "base_uri": "https://localhost:8080/"
    },
    "executionInfo": {
     "elapsed": 33656,
     "status": "ok",
     "timestamp": 1739976275287,
     "user": {
      "displayName": "Ivo Aguiar Pimenta",
      "userId": "02863166633362898286"
     },
     "user_tz": 180
    },
    "id": "57b361cc",
    "outputId": "9d6c10be-8602-47a7-cefd-d5cb9f61ac57"
   },
   "outputs": [
    {
     "name": "stdout",
     "output_type": "stream",
     "text": [
      "Epoch 1/20\n"
     ]
    },
    {
     "name": "stderr",
     "output_type": "stream",
     "text": [
      "c:\\Users\\IvoAg\\AppData\\Local\\Programs\\Python\\Python311\\Lib\\site-packages\\keras\\src\\layers\\rnn\\rnn.py:204: UserWarning: Do not pass an `input_shape`/`input_dim` argument to a layer. When using Sequential models, prefer using an `Input(shape)` object as the first layer in the model instead.\n",
      "  super().__init__(**kwargs)\n"
     ]
    },
    {
     "name": "stdout",
     "output_type": "stream",
     "text": [
      "\u001b[1m475/475\u001b[0m \u001b[32m━━━━━━━━━━━━━━━━━━━━\u001b[0m\u001b[37m\u001b[0m \u001b[1m3s\u001b[0m 2ms/step - accuracy: 0.6110 - loss: 0.6508 - val_accuracy: 0.6483 - val_loss: 0.6132\n",
      "Epoch 2/20\n",
      "\u001b[1m475/475\u001b[0m \u001b[32m━━━━━━━━━━━━━━━━━━━━\u001b[0m\u001b[37m\u001b[0m \u001b[1m1s\u001b[0m 1ms/step - accuracy: 0.6663 - loss: 0.5986 - val_accuracy: 0.6610 - val_loss: 0.6101\n",
      "Epoch 3/20\n",
      "\u001b[1m475/475\u001b[0m \u001b[32m━━━━━━━━━━━━━━━━━━━━\u001b[0m\u001b[37m\u001b[0m \u001b[1m1s\u001b[0m 1ms/step - accuracy: 0.6751 - loss: 0.5944 - val_accuracy: 0.6839 - val_loss: 0.6088\n",
      "Epoch 4/20\n",
      "\u001b[1m475/475\u001b[0m \u001b[32m━━━━━━━━━━━━━━━━━━━━\u001b[0m\u001b[37m\u001b[0m \u001b[1m1s\u001b[0m 1ms/step - accuracy: 0.6789 - loss: 0.5935 - val_accuracy: 0.6797 - val_loss: 0.6072\n",
      "Epoch 5/20\n",
      "\u001b[1m475/475\u001b[0m \u001b[32m━━━━━━━━━━━━━━━━━━━━\u001b[0m\u001b[37m\u001b[0m \u001b[1m1s\u001b[0m 1ms/step - accuracy: 0.6819 - loss: 0.5924 - val_accuracy: 0.6739 - val_loss: 0.6075\n",
      "Epoch 6/20\n",
      "\u001b[1m475/475\u001b[0m \u001b[32m━━━━━━━━━━━━━━━━━━━━\u001b[0m\u001b[37m\u001b[0m \u001b[1m1s\u001b[0m 1ms/step - accuracy: 0.6881 - loss: 0.5904 - val_accuracy: 0.6762 - val_loss: 0.6064\n",
      "Epoch 7/20\n",
      "\u001b[1m475/475\u001b[0m \u001b[32m━━━━━━━━━━━━━━━━━━━━\u001b[0m\u001b[37m\u001b[0m \u001b[1m1s\u001b[0m 2ms/step - accuracy: 0.6850 - loss: 0.5899 - val_accuracy: 0.6773 - val_loss: 0.6065\n",
      "Epoch 8/20\n",
      "\u001b[1m475/475\u001b[0m \u001b[32m━━━━━━━━━━━━━━━━━━━━\u001b[0m\u001b[37m\u001b[0m \u001b[1m1s\u001b[0m 2ms/step - accuracy: 0.6836 - loss: 0.5908 - val_accuracy: 0.6704 - val_loss: 0.6057\n",
      "Epoch 9/20\n",
      "\u001b[1m475/475\u001b[0m \u001b[32m━━━━━━━━━━━━━━━━━━━━\u001b[0m\u001b[37m\u001b[0m \u001b[1m1s\u001b[0m 1ms/step - accuracy: 0.6845 - loss: 0.5901 - val_accuracy: 0.6694 - val_loss: 0.6061\n",
      "Epoch 10/20\n",
      "\u001b[1m475/475\u001b[0m \u001b[32m━━━━━━━━━━━━━━━━━━━━\u001b[0m\u001b[37m\u001b[0m \u001b[1m1s\u001b[0m 1ms/step - accuracy: 0.6940 - loss: 0.5899 - val_accuracy: 0.6689 - val_loss: 0.6052\n",
      "Epoch 11/20\n",
      "\u001b[1m475/475\u001b[0m \u001b[32m━━━━━━━━━━━━━━━━━━━━\u001b[0m\u001b[37m\u001b[0m \u001b[1m1s\u001b[0m 2ms/step - accuracy: 0.6841 - loss: 0.5892 - val_accuracy: 0.6625 - val_loss: 0.6053\n",
      "Epoch 12/20\n",
      "\u001b[1m475/475\u001b[0m \u001b[32m━━━━━━━━━━━━━━━━━━━━\u001b[0m\u001b[37m\u001b[0m \u001b[1m1s\u001b[0m 2ms/step - accuracy: 0.6903 - loss: 0.5875 - val_accuracy: 0.6636 - val_loss: 0.6047\n",
      "Epoch 13/20\n",
      "\u001b[1m475/475\u001b[0m \u001b[32m━━━━━━━━━━━━━━━━━━━━\u001b[0m\u001b[37m\u001b[0m \u001b[1m1s\u001b[0m 1ms/step - accuracy: 0.6873 - loss: 0.5882 - val_accuracy: 0.6623 - val_loss: 0.6051\n",
      "Epoch 14/20\n",
      "\u001b[1m475/475\u001b[0m \u001b[32m━━━━━━━━━━━━━━━━━━━━\u001b[0m\u001b[37m\u001b[0m \u001b[1m1s\u001b[0m 1ms/step - accuracy: 0.6888 - loss: 0.5878 - val_accuracy: 0.6649 - val_loss: 0.6051\n",
      "Epoch 15/20\n",
      "\u001b[1m475/475\u001b[0m \u001b[32m━━━━━━━━━━━━━━━━━━━━\u001b[0m\u001b[37m\u001b[0m \u001b[1m1s\u001b[0m 1ms/step - accuracy: 0.6882 - loss: 0.5876 - val_accuracy: 0.6702 - val_loss: 0.6047\n",
      "Epoch 16/20\n",
      "\u001b[1m475/475\u001b[0m \u001b[32m━━━━━━━━━━━━━━━━━━━━\u001b[0m\u001b[37m\u001b[0m \u001b[1m1s\u001b[0m 1ms/step - accuracy: 0.6898 - loss: 0.5873 - val_accuracy: 0.6649 - val_loss: 0.6042\n",
      "Epoch 17/20\n",
      "\u001b[1m475/475\u001b[0m \u001b[32m━━━━━━━━━━━━━━━━━━━━\u001b[0m\u001b[37m\u001b[0m \u001b[1m1s\u001b[0m 1ms/step - accuracy: 0.6913 - loss: 0.5858 - val_accuracy: 0.6678 - val_loss: 0.6039\n",
      "Epoch 18/20\n",
      "\u001b[1m475/475\u001b[0m \u001b[32m━━━━━━━━━━━━━━━━━━━━\u001b[0m\u001b[37m\u001b[0m \u001b[1m1s\u001b[0m 1ms/step - accuracy: 0.6875 - loss: 0.5857 - val_accuracy: 0.6612 - val_loss: 0.6037\n",
      "Epoch 19/20\n",
      "\u001b[1m475/475\u001b[0m \u001b[32m━━━━━━━━━━━━━━━━━━━━\u001b[0m\u001b[37m\u001b[0m \u001b[1m1s\u001b[0m 1ms/step - accuracy: 0.6874 - loss: 0.5866 - val_accuracy: 0.6654 - val_loss: 0.6031\n",
      "Epoch 20/20\n",
      "\u001b[1m475/475\u001b[0m \u001b[32m━━━━━━━━━━━━━━━━━━━━\u001b[0m\u001b[37m\u001b[0m \u001b[1m1s\u001b[0m 1ms/step - accuracy: 0.6955 - loss: 0.5852 - val_accuracy: 0.6712 - val_loss: 0.6033\n"
     ]
    }
   ],
   "source": [
    "import tensorflow as tf\n",
    "from tensorflow import keras\n",
    "from tensorflow.keras.layers import SimpleRNN, Dense, Dropout\n",
    "from sklearn.model_selection import train_test_split\n",
    "\n",
    "# Separando variáveis de entrada (X) e saída (y)\n",
    "X = data_balanced[['idade', 'renda', 'genero']]\n",
    "y = data_balanced['aprovado']\n",
    "\n",
    "# Dividindo em dados de treino e teste\n",
    "X_train, X_test, y_train, y_test = train_test_split(X, y, test_size=0.2, random_state=42)\n",
    "\n",
    "# Remodelando os dados para o formato esperado pela RNN\n",
    "X_train_rnn = np.reshape(X_train.values, (X_train.shape[0], 1, X_train.shape[1])).astype('float32')\n",
    "X_test_rnn = np.reshape(X_test.values, (X_test.shape[0], 1, X_test.shape[1])).astype('float32')\n",
    "\n",
    "# Criando uma rede neural recorrente\n",
    "model_rnn_new = keras.Sequential([\n",
    "    SimpleRNN(32, activation='relu', return_sequences=True, input_shape=(1, X_train.shape[1])),\n",
    "    Dropout(0.2),\n",
    "    SimpleRNN(16, activation='relu'),\n",
    "    Dense(1, activation='sigmoid')\n",
    "])\n",
    "\n",
    "# Compilando o modelo\n",
    "model_rnn_new.compile(optimizer='adam', loss='binary_crossentropy', metrics=['accuracy'])\n",
    "\n",
    "# Treinando a rede neural\n",
    "history = model_rnn_new.fit(X_train_rnn, y_train, epochs=20, batch_size=32, validation_data=(X_test_rnn, y_test))\n"
   ]
  },
  {
   "cell_type": "markdown",
   "id": "129670af",
   "metadata": {
    "id": "129670af"
   },
   "source": [
    "Principais diferenças:\n",
    "\n",
    "Agora o modelo é treinado com dados balanceados, reduzindo o viés de aprendizado.\n",
    "A arquitetura da rede neural continua a mesma, para comparação direta dos impactos."
   ]
  },
  {
   "cell_type": "markdown",
   "id": "a56db9b5",
   "metadata": {
    "id": "a56db9b5"
   },
   "source": [
    "---"
   ]
  },
  {
   "cell_type": "markdown",
   "id": "885f30e4",
   "metadata": {
    "id": "885f30e4"
   },
   "source": [
    "4️⃣ Análise dos Impactos das Correções\n",
    "\n",
    "Após o novo treinamento, foram geradas análises para medir a redução do viés.\n",
    "\n",
    "**Matriz de Confusão**\n",
    "\n",
    "Antes, o modelo quase sempre aprovava homens. Agora, verificamos se a distribuição das previsões está mais equilibrada."
   ]
  },
  {
   "cell_type": "code",
   "execution_count": 23,
   "id": "98fae356",
   "metadata": {
    "colab": {
     "base_uri": "https://localhost:8080/",
     "height": 505
    },
    "executionInfo": {
     "elapsed": 1547,
     "status": "ok",
     "timestamp": 1739976276835,
     "user": {
      "displayName": "Ivo Aguiar Pimenta",
      "userId": "02863166633362898286"
     },
     "user_tz": 180
    },
    "id": "98fae356",
    "outputId": "9d9a1a9d-cd60-4314-dcb5-ed68ceae2a37"
   },
   "outputs": [
    {
     "name": "stdout",
     "output_type": "stream",
     "text": [
      "\u001b[1m119/119\u001b[0m \u001b[32m━━━━━━━━━━━━━━━━━━━━\u001b[0m\u001b[37m\u001b[0m \u001b[1m0s\u001b[0m 2ms/step\n"
     ]
    },
    {
     "data": {
      "image/png": "[encoded data removed]",
      "text/plain": [
       "<Figure size 500x500 with 2 Axes>"
      ]
     },
     "metadata": {},
     "output_type": "display_data"
    }
   ],
   "source": [
    "from sklearn.metrics import confusion_matrix\n",
    "import seaborn as sns\n",
    "import matplotlib.pyplot as plt\n",
    "\n",
    "# Fazendo previsões\n",
    "predictions = model_rnn_new.predict(X_test_rnn)\n",
    "predictions = (predictions > 0.5).astype(int)\n",
    "\n",
    "# Matriz de confusão\n",
    "cm = confusion_matrix(y_test, predictions)\n",
    "plt.figure(figsize=(5,5))\n",
    "sns.heatmap(cm, annot=True, fmt='d', cmap='Blues', xticklabels=['Não Aprovado', 'Aprovado'], yticklabels=['Não Aprovado', 'Aprovado'])\n",
    "plt.xlabel(\"Valores Preditos\")\n",
    "plt.ylabel(\"Valores Reais\")\n",
    "plt.title(\"Matriz de Confusão (Após Balanceamento)\")\n",
    "plt.show()"
   ]
  },
  {
   "cell_type": "markdown",
   "id": "61e71f9c",
   "metadata": {
    "id": "61e71f9c"
   },
   "source": [
    "Agora o modelo deve prever melhor ambas as classes (aprovado e não aprovado) para ambos os gêneros.\n",
    "\n",
    "A matriz de confusão não deve mais mostrar um viés extremo favorecendo uma classe."
   ]
  },
  {
   "cell_type": "code",
   "execution_count": 24,
   "id": "8e2315a2",
   "metadata": {
    "colab": {
     "base_uri": "https://localhost:8080/"
    },
    "executionInfo": {
     "elapsed": 6,
     "status": "ok",
     "timestamp": 1739976276842,
     "user": {
      "displayName": "Ivo Aguiar Pimenta",
      "userId": "02863166633362898286"
     },
     "user_tz": 180
    },
    "id": "8e2315a2",
    "outputId": "3426e3c9-3f7b-4152-bb0d-313c14c498e9"
   },
   "outputs": [
    {
     "name": "stdout",
     "output_type": "stream",
     "text": [
      "Relatório de Classificação após Balanceamento:\n",
      "              precision    recall  f1-score   support\n",
      "\n",
      "           0       0.60      0.35      0.44      1416\n",
      "           1       0.69      0.86      0.77      2380\n",
      "\n",
      "    accuracy                           0.67      3796\n",
      "   macro avg       0.65      0.61      0.60      3796\n",
      "weighted avg       0.66      0.67      0.65      3796\n",
      "\n"
     ]
    }
   ],
   "source": [
    "from sklearn.metrics import classification_report\n",
    "\n",
    "print(\"Relatório de Classificação após Balanceamento:\")\n",
    "print(classification_report(y_test, predictions))"
   ]
  },
  {
   "cell_type": "markdown",
   "id": "9affac33",
   "metadata": {
    "id": "9affac33"
   },
   "source": [
    "A precisão, recall e F1-score devem estar mais equilibrados entre as classes.\n",
    "\n",
    "O recall para a classe \"não aprovado\" (0), que antes era baixíssimo, agora deve melhorar."
   ]
  },
  {
   "cell_type": "markdown",
   "id": "13a44951",
   "metadata": {
    "id": "13a44951"
   },
   "source": [
    "---"
   ]
  },
  {
   "cell_type": "markdown",
   "id": "fc5fec3f",
   "metadata": {
    "id": "fc5fec3f"
   },
   "source": [
    "### Avaliação\n",
    "\n",
    "**Classe 0 (Não Aprovado)**\n",
    "\n",
    "Precisão de 0.60: 60% das previsões de \"não aprovado\" estavam corretas.\n",
    "\n",
    "Recall de 0.37: O modelo só identificou corretamente 37% dos verdadeiros \"não aprovados\".\n",
    "\n",
    "F1-score de 0.46: O modelo ainda não está prevendo \"não aprovados\" com tanta confiança, pois tem baixa sensibilidade.\n",
    "\n",
    "\n",
    "**Classe 1 (Aprovado)**\n",
    "\n",
    "Precisão de 0.69: 69% das previsões de \"aprovado\" estavam corretas.\n",
    "\n",
    "Recall de 0.85: O modelo encontrou 85% dos verdadeiros \"aprovados\", ou seja, ainda favorece essa classe.\n",
    "\n",
    "F1-score de 0.76: O modelo está bem mais eficiente na predição de aprovados do que de não aprovados.\n",
    "\n",
    "**Avaliação Geral do Modelo**\n",
    "\n",
    "Acurácia de 67%: O modelo acerta 67% das previsões em geral, o que é melhor do que aleatório, mas ainda pode melhorar.\n",
    "\n",
    "Macro Avg Recall de 0.61: O modelo ainda tem dificuldade em equilibrar suas previsões entre as classes.\n",
    "\n",
    "Weighted Avg F1-score de 0.65: Indica que o modelo está aprendendo, mas ainda precisa de ajustes para melhorar sua capacidade de prever corretamente os \"não aprovados\".\n"
   ]
  },
  {
   "cell_type": "markdown",
   "id": "e792c025",
   "metadata": {
    "id": "e792c025"
   },
   "source": [
    "O Impacto do Balanceamento\n",
    "\n",
    "- O modelo melhorou na previsão de ambas as classes, mas ainda favorece \"Aprovados\" (1).\n",
    "\n",
    "- Agora ele consegue prever melhor os \"Não Aprovados\" (0), mas o Recall ainda está baixo (0.37), o que significa que ele está perdendo muitos casos dessa classe.\n",
    "\n",
    "- Antes, o modelo tinha um Recall de 0.09 para \"Não Aprovados\", agora está em 0.37 – uma melhoria significativa!\n",
    "\n",
    "- A acurácia geral caiu um pouco, mas agora o modelo está mais justo, pois antes ele só favorecia \"Aprovados\"."
   ]
  },
  {
   "cell_type": "markdown",
   "id": "6660f767",
   "metadata": {
    "id": "6660f767"
   },
   "source": [
    "Para tornar o modelo ainda mais equilibrado, podemos:\n",
    "    \n",
    "**Ajustar a penalização de erros do modelo**\n",
    "\n",
    "Usar pesos diferentes para as classes na função de custo para forçar o modelo a aprender melhor os \"Não Aprovados\".\n",
    "\n",
    "**Melhorar o balanceamento**\n",
    "\n",
    "Além do oversampling, podemos usar técnicas de ajuste de pesos nos exemplos de treino para forçar o modelo a prestar mais atenção nos \"Não Aprovados\".\n",
    "\n",
    "**Testar outra arquitetura de rede neural**\n",
    "\n",
    "Podemos adicionar mais camadas e neurônios para aumentar a capacidade de aprendizado do modelo."
   ]
  },
  {
   "cell_type": "markdown",
   "id": "a2e5b9e7",
   "metadata": {
    "id": "a2e5b9e7"
   },
   "source": [
    "### Em resumo:\n",
    "\n",
    "✔ O modelo agora está mais justo e não favorece tanto um gênero específico.\n",
    "\n",
    "✔ O Recall de \"Não Aprovados\" melhorou, mas ainda precisa de ajustes para identificar melhor esses casos.\n",
    "\n",
    "✔ A acurácia caiu um pouco (de 78% para 67%), mas isso é esperado quando o modelo aprende a equilibrar melhor as decisões."
   ]
  },
  {
   "cell_type": "markdown",
   "id": "fd5752d7",
   "metadata": {
    "id": "fd5752d7"
   },
   "source": [
    "\n",
    "\n",
    "- Oversampling resolveu o desbalanceamento dos dados, garantindo que o modelo aprenda um padrão mais justo.\n",
    "\n",
    "- Matriz de Confusão mais equilibrada, indicando que o modelo agora está classificando corretamente ambas as classes.\n",
    "\n",
    "- Melhoria no Recall e Precisão, refletindo uma capacidade real do modelo de prever corretamente as aprovações e reprovações para ambos os gêneros.\n",
    "\n",
    "- Taxa de Aprovação Mais Justa, garantindo que o modelo não favoreça injustamente um grupo específico."
   ]
  },
  {
   "cell_type": "code",
   "execution_count": null,
   "id": "557bc6c0",
   "metadata": {
    "executionInfo": {
     "elapsed": 1,
     "status": "ok",
     "timestamp": 1739976276850,
     "user": {
      "displayName": "Ivo Aguiar Pimenta",
      "userId": "02863166633362898286"
     },
     "user_tz": 180
    },
    "id": "557bc6c0"
   },
   "outputs": [],
   "source": []
  }
 ],
 "metadata": {
  "colab": {
   "provenance": []
  },
  "kernelspec": {
   "display_name": "Python 3",
   "language": "python",
   "name": "python3"
  },
  "language_info": {
   "codemirror_mode": {
    "name": "ipython",
    "version": 3
   },
   "file_extension": ".py",
   "mimetype": "text/x-python",
   "name": "python",
   "nbconvert_exporter": "python",
   "pygments_lexer": "ipython3",
   "version": "3.11.1"
  }
 },
 "nbformat": 4,
 "nbformat_minor": 5
}
