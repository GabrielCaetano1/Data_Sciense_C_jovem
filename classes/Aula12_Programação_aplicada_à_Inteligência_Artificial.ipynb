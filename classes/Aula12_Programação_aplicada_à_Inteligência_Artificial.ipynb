{
 "cells": [
  {
   "cell_type": "markdown",
   "metadata": {
    "id": "tuhT2rhN_pW0"
   },
   "source": [
    "\n",
    "## **Atividade Prática: Redes Neurais Iniciais**\n",
    "#### **Objetivo**:\n",
    "- Introduzir os conceitos fundamentais de redes neurais.\n",
    "- Implementar perceptron simples, MLP e CNN usando TensorFlow/Keras.\n",
    "- Trabalhar com datasets reais para solidificar a compreensão prática.\n",
    "- Analisar o impacto de hiperparâmetros nos modelos.\n"
   ]
  },
  {
   "cell_type": "markdown",
   "metadata": {
    "id": "SNgkVelt_9g6"
   },
   "source": [
    "\n",
    "### **Bibliotecas Necessárias**"
   ]
  },
  {
   "cell_type": "code",
   "execution_count": 1,
   "metadata": {
    "executionInfo": {
     "elapsed": 15748,
     "status": "ok",
     "timestamp": 1736166241568,
     "user": {
      "displayName": "Ricardo Normando Ferreira De Paula",
      "userId": "09816079611744283478"
     },
     "user_tz": 180
    },
    "id": "MrdzeIeK5GaC"
   },
   "outputs": [],
   "source": [
    "\n",
    "# Importando bibliotecas essenciais\n",
    "import numpy as np\n",
    "import pandas as pd\n",
    "import matplotlib.pyplot as plt\n",
    "import tensorflow as tf\n",
    "from tensorflow import keras\n",
    "from tensorflow.keras.models import Sequential\n",
    "from tensorflow.keras.layers import Dense, Flatten, Conv2D, MaxPooling2D\n",
    "from sklearn.neural_network import MLPClassifier\n",
    "from sklearn.model_selection import train_test_split\n",
    "from sklearn.preprocessing import StandardScaler\n",
    "from sklearn.metrics import accuracy_score\n",
    "import seaborn as sns\n"
   ]
  },
  {
   "cell_type": "markdown",
   "metadata": {
    "id": "VhNQVI7dAO-C"
   },
   "source": [
    "### **2. Datasets Utilizados**\n",
    "\n",
    "#### **Numéricos: Breast Cancer Wisconsin Dataset**\n",
    "- **Descrição**: Um dataset de classificação binária que contém informações de tumores, como textura, simetria e dimensões.  \n",
    "- **Objetivo**: Classificar os tumores como **malignos** ou **benignos**.\n",
    "- **Tamanho**: 569 amostras e 30 características.\n",
    "\n",
    "#### **Imagens: MNIST Dataset**\n",
    "- **Descrição**: Um dataset clássico para tarefas de classificação de imagens. Contém 60.000 imagens de treinamento e 10.000 imagens de teste de dígitos manuscritos de 0 a 9.  \n",
    "- **Objetivo**: Classificar corretamente os dígitos com base nas imagens."
   ]
  },
  {
   "cell_type": "code",
   "execution_count": 11,
   "metadata": {
    "colab": {
     "base_uri": "https://localhost:8080/"
    },
    "id": "tlaLqpI2AblR",
    "outputId": "f2cd0b8a-4849-4929-cef5-00b008385ade"
   },
   "outputs": [
    {
     "name": "stdout",
     "output_type": "stream",
     "text": [
      "Breast Cancer Dataset:\n",
      "Classes: ['malignant' 'benign']\n",
      "Formato de X: (569, 30)\n",
      "Formato de y: (569,)\n",
      "Características: ['mean radius' 'mean texture' 'mean perimeter' 'mean area'\n",
      " 'mean smoothness' 'mean compactness' 'mean concavity'\n",
      " 'mean concave points' 'mean symmetry' 'mean fractal dimension'\n",
      " 'radius error' 'texture error' 'perimeter error' 'area error'\n",
      " 'smoothness error' 'compactness error' 'concavity error'\n",
      " 'concave points error' 'symmetry error' 'fractal dimension error'\n",
      " 'worst radius' 'worst texture' 'worst perimeter' 'worst area'\n",
      " 'worst smoothness' 'worst compactness' 'worst concavity'\n",
      " 'worst concave points' 'worst symmetry' 'worst fractal dimension']\n"
     ]
    }
   ],
   "source": [
    "\n",
    "\n",
    "# Carregando o Breast Cancer Dataset\n",
    "from sklearn.datasets import load_breast_cancer\n",
    "breast_cancer = load_breast_cancer()\n",
    "X_cancer = breast_cancer.data\n",
    "y_cancer = breast_cancer.target\n",
    "\n",
    "# Resumo do Breast Cancer Dataset\n",
    "print(\"Breast Cancer Dataset:\")\n",
    "print(f\"Classes: {breast_cancer.target_names}\")\n",
    "print(f\"Formato de X: {X_cancer.shape}\")\n",
    "print(f\"Formato de y: {y_cancer.shape}\")\n",
    "print(f\"Características: {breast_cancer.feature_names}\")\n",
    "\n",
    "\n"
   ]
  },
  {
   "cell_type": "code",
   "execution_count": 12,
   "metadata": {
    "colab": {
     "base_uri": "https://localhost:8080/"
    },
    "id": "f-p5OBR4piLa",
    "outputId": "1f423f3e-ab8e-473e-9fe2-b9f49a1fca91"
   },
   "outputs": [
    {
     "name": "stdout",
     "output_type": "stream",
     "text": [
      "\n",
      "MNIST Dataset:\n",
      "Formato de X_train: (60000, 28, 28)\n",
      "Formato de y_train: (60000,)\n",
      "Formato de X_test: (10000, 28, 28)\n"
     ]
    }
   ],
   "source": [
    "# Carregando o MNIST Dataset\n",
    "(X_mnist_train, y_mnist_train), (X_mnist_test, y_mnist_test) = keras.datasets.mnist.load_data()\n",
    "\n",
    "# Resumo do MNIST Dataset\n",
    "print(\"\\nMNIST Dataset:\")\n",
    "print(f\"Formato de X_train: {X_mnist_train.shape}\")\n",
    "print(f\"Formato de y_train: {y_mnist_train.shape}\")\n",
    "print(f\"Formato de X_test: {X_mnist_test.shape}\")"
   ]
  },
  {
   "cell_type": "markdown",
   "metadata": {
    "id": "RQGLWxIRpOYk"
   },
   "source": [
    "**Exemplo de algumas imagens do Dartaset MNIST**"
   ]
  },
  {
   "cell_type": "code",
   "execution_count": 13,
   "metadata": {
    "colab": {
     "base_uri": "https://localhost:8080/",
     "height": 125
    },
    "id": "twSwrcM-pKFv",
    "outputId": "0745894a-7ecb-47cc-f9bb-c9e41e6009eb"
   },
   "outputs": [
    {
     "data": {
      "image/png": "[encoded data removed]",
      "text/plain": [
       "<Figure size 1000x500 with 10 Axes>"
      ]
     },
     "metadata": {},
     "output_type": "display_data"
    }
   ],
   "source": [
    "# Definir o número de imagens a serem exibidas\n",
    "num_images = 10\n",
    "\n",
    "# Plotar as primeiras 5 imagens do conjunto de treinamento\n",
    "plt.figure(figsize=(10, 5))\n",
    "for i in range(num_images):\n",
    "    plt.subplot(1, num_images, i + 1)\n",
    "    plt.imshow(X_mnist_train[i], cmap='gray')  # Exibir imagem em tons de cinza\n",
    "    plt.title(f'Label: {y_mnist_train[i]}')\n",
    "    plt.axis('off')  # Desativar os eixos\n",
    "plt.show()\n"
   ]
  },
  {
   "cell_type": "markdown",
   "metadata": {
    "id": "wmvugEUJAsWb"
   },
   "source": [
    "\n",
    "### **Perceptron Simples**\n",
    "#### **O que é um Perceptron Simples?**\n",
    "O perceptron simples é a unidade mais básica de uma rede neural. Ele realiza uma **classificação linear** ao dividir o espaço de entrada em duas regiões separadas por uma reta (ou hiperplano em dimensões mais altas).  \n",
    "\n",
    "#### **Arquitetura:**\n",
    "- **Camada de Entrada**: Recebe os dados de entrada (características do dataset).  \n",
    "- **Pesos**: São valores atribuídos a cada entrada, representando a importância relativa de cada característica.  \n",
    "- **Função Soma**: Calcula uma combinação linear dos valores de entrada e seus respectivos pesos.  \n",
    "- **Função de Ativação**: Decide se a saída será **1** ou **0** com base no valor da soma.\n",
    "\n",
    "#### **Limitações:**\n",
    "- O perceptron simples só resolve problemas **linearmente separáveis**, ou seja, quando as classes podem ser separadas por uma reta.\n",
    "\n",
    "\n",
    "\n",
    "\n",
    "\n"
   ]
  },
  {
   "cell_type": "markdown",
   "metadata": {
    "id": "pIZHb1TvD-62"
   },
   "source": [
    "\n",
    "### **Perceptron Simples com Breast Cancer Dataset**\n",
    "\n",
    "#### **Treinamento Básico**"
   ]
  },
  {
   "cell_type": "code",
   "execution_count": 14,
   "metadata": {
    "colab": {
     "base_uri": "https://localhost:8080/"
    },
    "id": "8OisMUApCsGG",
    "outputId": "11a6929d-484d-4a0d-a5ec-8a0d1a7e34e4"
   },
   "outputs": [
    {
     "name": "stderr",
     "output_type": "stream",
     "text": [
      "c:\\Users\\IvoAg\\AppData\\Local\\Programs\\Python\\Python311\\Lib\\site-packages\\keras\\src\\layers\\core\\dense.py:87: UserWarning: Do not pass an `input_shape`/`input_dim` argument to a layer. When using Sequential models, prefer using an `Input(shape)` object as the first layer in the model instead.\n",
      "  super().__init__(activity_regularizer=activity_regularizer, **kwargs)\n"
     ]
    },
    {
     "name": "stdout",
     "output_type": "stream",
     "text": [
      "Epoch 1/50\n",
      "\u001b[1m13/13\u001b[0m \u001b[32m━━━━━━━━━━━━━━━━━━━━\u001b[0m\u001b[37m\u001b[0m \u001b[1m1s\u001b[0m 20ms/step - accuracy: 0.6235 - loss: 0.6921 - val_accuracy: 0.7193 - val_loss: 0.5480\n",
      "Epoch 2/50\n",
      "\u001b[1m13/13\u001b[0m \u001b[32m━━━━━━━━━━━━━━━━━━━━\u001b[0m\u001b[37m\u001b[0m \u001b[1m0s\u001b[0m 6ms/step - accuracy: 0.7117 - loss: 0.5898 - val_accuracy: 0.7836 - val_loss: 0.4898\n",
      "Epoch 3/50\n",
      "\u001b[1m13/13\u001b[0m \u001b[32m━━━━━━━━━━━━━━━━━━━━\u001b[0m\u001b[37m\u001b[0m \u001b[1m0s\u001b[0m 7ms/step - accuracy: 0.7530 - loss: 0.5065 - val_accuracy: 0.8304 - val_loss: 0.4401\n",
      "Epoch 4/50\n",
      "\u001b[1m13/13\u001b[0m \u001b[32m━━━━━━━━━━━━━━━━━━━━\u001b[0m\u001b[37m\u001b[0m \u001b[1m0s\u001b[0m 6ms/step - accuracy: 0.8102 - loss: 0.4427 - val_accuracy: 0.8421 - val_loss: 0.3989\n",
      "Epoch 5/50\n",
      "\u001b[1m13/13\u001b[0m \u001b[32m━━━━━━━━━━━━━━━━━━━━\u001b[0m\u001b[37m\u001b[0m \u001b[1m0s\u001b[0m 6ms/step - accuracy: 0.8385 - loss: 0.4040 - val_accuracy: 0.8713 - val_loss: 0.3642\n",
      "Epoch 6/50\n",
      "\u001b[1m13/13\u001b[0m \u001b[32m━━━━━━━━━━━━━━━━━━━━\u001b[0m\u001b[37m\u001b[0m \u001b[1m0s\u001b[0m 7ms/step - accuracy: 0.8632 - loss: 0.3675 - val_accuracy: 0.8889 - val_loss: 0.3352\n",
      "Epoch 7/50\n",
      "\u001b[1m13/13\u001b[0m \u001b[32m━━━━━━━━━━━━━━━━━━━━\u001b[0m\u001b[37m\u001b[0m \u001b[1m0s\u001b[0m 5ms/step - accuracy: 0.8805 - loss: 0.3417 - val_accuracy: 0.9006 - val_loss: 0.3114\n",
      "Epoch 8/50\n",
      "\u001b[1m13/13\u001b[0m \u001b[32m━━━━━━━━━━━━━━━━━━━━\u001b[0m\u001b[37m\u001b[0m \u001b[1m0s\u001b[0m 7ms/step - accuracy: 0.8884 - loss: 0.3301 - val_accuracy: 0.9064 - val_loss: 0.2909\n",
      "Epoch 9/50\n",
      "\u001b[1m13/13\u001b[0m \u001b[32m━━━━━━━━━━━━━━━━━━━━\u001b[0m\u001b[37m\u001b[0m \u001b[1m0s\u001b[0m 8ms/step - accuracy: 0.8857 - loss: 0.3358 - val_accuracy: 0.9064 - val_loss: 0.2731\n",
      "Epoch 10/50\n",
      "\u001b[1m13/13\u001b[0m \u001b[32m━━━━━━━━━━━━━━━━━━━━\u001b[0m\u001b[37m\u001b[0m \u001b[1m0s\u001b[0m 6ms/step - accuracy: 0.8945 - loss: 0.3075 - val_accuracy: 0.9064 - val_loss: 0.2582\n",
      "Epoch 11/50\n",
      "\u001b[1m13/13\u001b[0m \u001b[32m━━━━━━━━━━━━━━━━━━━━\u001b[0m\u001b[37m\u001b[0m \u001b[1m0s\u001b[0m 6ms/step - accuracy: 0.8955 - loss: 0.2831 - val_accuracy: 0.9064 - val_loss: 0.2456\n",
      "Epoch 12/50\n",
      "\u001b[1m13/13\u001b[0m \u001b[32m━━━━━━━━━━━━━━━━━━━━\u001b[0m\u001b[37m\u001b[0m \u001b[1m0s\u001b[0m 7ms/step - accuracy: 0.8957 - loss: 0.2848 - val_accuracy: 0.9181 - val_loss: 0.2339\n",
      "Epoch 13/50\n",
      "\u001b[1m13/13\u001b[0m \u001b[32m━━━━━━━━━━━━━━━━━━━━\u001b[0m\u001b[37m\u001b[0m \u001b[1m0s\u001b[0m 6ms/step - accuracy: 0.9113 - loss: 0.2424 - val_accuracy: 0.9240 - val_loss: 0.2236\n",
      "Epoch 14/50\n",
      "\u001b[1m13/13\u001b[0m \u001b[32m━━━━━━━━━━━━━━━━━━━━\u001b[0m\u001b[37m\u001b[0m \u001b[1m0s\u001b[0m 5ms/step - accuracy: 0.9085 - loss: 0.2436 - val_accuracy: 0.9298 - val_loss: 0.2145\n",
      "Epoch 15/50\n",
      "\u001b[1m13/13\u001b[0m \u001b[32m━━━━━━━━━━━━━━━━━━━━\u001b[0m\u001b[37m\u001b[0m \u001b[1m0s\u001b[0m 7ms/step - accuracy: 0.9256 - loss: 0.2281 - val_accuracy: 0.9357 - val_loss: 0.2062\n",
      "Epoch 16/50\n",
      "\u001b[1m13/13\u001b[0m \u001b[32m━━━━━━━━━━━━━━━━━━━━\u001b[0m\u001b[37m\u001b[0m \u001b[1m0s\u001b[0m 8ms/step - accuracy: 0.9132 - loss: 0.2311 - val_accuracy: 0.9415 - val_loss: 0.1986\n",
      "Epoch 17/50\n",
      "\u001b[1m13/13\u001b[0m \u001b[32m━━━━━━━━━━━━━━━━━━━━\u001b[0m\u001b[37m\u001b[0m \u001b[1m0s\u001b[0m 6ms/step - accuracy: 0.9306 - loss: 0.2244 - val_accuracy: 0.9415 - val_loss: 0.1916\n",
      "Epoch 18/50\n",
      "\u001b[1m13/13\u001b[0m \u001b[32m━━━━━━━━━━━━━━━━━━━━\u001b[0m\u001b[37m\u001b[0m \u001b[1m0s\u001b[0m 7ms/step - accuracy: 0.9271 - loss: 0.2169 - val_accuracy: 0.9415 - val_loss: 0.1853\n",
      "Epoch 19/50\n",
      "\u001b[1m13/13\u001b[0m \u001b[32m━━━━━━━━━━━━━━━━━━━━\u001b[0m\u001b[37m\u001b[0m \u001b[1m0s\u001b[0m 7ms/step - accuracy: 0.9294 - loss: 0.2129 - val_accuracy: 0.9415 - val_loss: 0.1792\n",
      "Epoch 20/50\n",
      "\u001b[1m13/13\u001b[0m \u001b[32m━━━━━━━━━━━━━━━━━━━━\u001b[0m\u001b[37m\u001b[0m \u001b[1m0s\u001b[0m 8ms/step - accuracy: 0.9363 - loss: 0.2000 - val_accuracy: 0.9415 - val_loss: 0.1740\n",
      "Epoch 21/50\n",
      "\u001b[1m13/13\u001b[0m \u001b[32m━━━━━━━━━━━━━━━━━━━━\u001b[0m\u001b[37m\u001b[0m \u001b[1m0s\u001b[0m 8ms/step - accuracy: 0.9408 - loss: 0.1884 - val_accuracy: 0.9415 - val_loss: 0.1691\n",
      "Epoch 22/50\n",
      "\u001b[1m13/13\u001b[0m \u001b[32m━━━━━━━━━━━━━━━━━━━━\u001b[0m\u001b[37m\u001b[0m \u001b[1m0s\u001b[0m 6ms/step - accuracy: 0.9512 - loss: 0.1899 - val_accuracy: 0.9415 - val_loss: 0.1644\n",
      "Epoch 23/50\n",
      "\u001b[1m13/13\u001b[0m \u001b[32m━━━━━━━━━━━━━━━━━━━━\u001b[0m\u001b[37m\u001b[0m \u001b[1m0s\u001b[0m 8ms/step - accuracy: 0.9505 - loss: 0.1792 - val_accuracy: 0.9415 - val_loss: 0.1601\n",
      "Epoch 24/50\n",
      "\u001b[1m13/13\u001b[0m \u001b[32m━━━━━━━━━━━━━━━━━━━━\u001b[0m\u001b[37m\u001b[0m \u001b[1m0s\u001b[0m 10ms/step - accuracy: 0.9426 - loss: 0.1932 - val_accuracy: 0.9415 - val_loss: 0.1560\n",
      "Epoch 25/50\n",
      "\u001b[1m13/13\u001b[0m \u001b[32m━━━━━━━━━━━━━━━━━━━━\u001b[0m\u001b[37m\u001b[0m \u001b[1m0s\u001b[0m 8ms/step - accuracy: 0.9326 - loss: 0.1801 - val_accuracy: 0.9474 - val_loss: 0.1521\n",
      "Epoch 26/50\n",
      "\u001b[1m13/13\u001b[0m \u001b[32m━━━━━━━━━━━━━━━━━━━━\u001b[0m\u001b[37m\u001b[0m \u001b[1m0s\u001b[0m 7ms/step - accuracy: 0.9436 - loss: 0.1752 - val_accuracy: 0.9591 - val_loss: 0.1487\n",
      "Epoch 27/50\n",
      "\u001b[1m13/13\u001b[0m \u001b[32m━━━━━━━━━━━━━━━━━━━━\u001b[0m\u001b[37m\u001b[0m \u001b[1m0s\u001b[0m 7ms/step - accuracy: 0.9539 - loss: 0.1601 - val_accuracy: 0.9591 - val_loss: 0.1453\n",
      "Epoch 28/50\n",
      "\u001b[1m13/13\u001b[0m \u001b[32m━━━━━━━━━━━━━━━━━━━━\u001b[0m\u001b[37m\u001b[0m \u001b[1m0s\u001b[0m 11ms/step - accuracy: 0.9435 - loss: 0.1795 - val_accuracy: 0.9591 - val_loss: 0.1421\n",
      "Epoch 29/50\n",
      "\u001b[1m13/13\u001b[0m \u001b[32m━━━━━━━━━━━━━━━━━━━━\u001b[0m\u001b[37m\u001b[0m \u001b[1m0s\u001b[0m 5ms/step - accuracy: 0.9528 - loss: 0.1697 - val_accuracy: 0.9591 - val_loss: 0.1391\n",
      "Epoch 30/50\n",
      "\u001b[1m13/13\u001b[0m \u001b[32m━━━━━━━━━━━━━━━━━━━━\u001b[0m\u001b[37m\u001b[0m \u001b[1m0s\u001b[0m 5ms/step - accuracy: 0.9547 - loss: 0.1623 - val_accuracy: 0.9649 - val_loss: 0.1362\n",
      "Epoch 31/50\n",
      "\u001b[1m13/13\u001b[0m \u001b[32m━━━━━━━━━━━━━━━━━━━━\u001b[0m\u001b[37m\u001b[0m \u001b[1m0s\u001b[0m 5ms/step - accuracy: 0.9716 - loss: 0.1568 - val_accuracy: 0.9649 - val_loss: 0.1334\n",
      "Epoch 32/50\n",
      "\u001b[1m13/13\u001b[0m \u001b[32m━━━━━━━━━━━━━━━━━━━━\u001b[0m\u001b[37m\u001b[0m \u001b[1m0s\u001b[0m 5ms/step - accuracy: 0.9540 - loss: 0.1598 - val_accuracy: 0.9649 - val_loss: 0.1309\n",
      "Epoch 33/50\n",
      "\u001b[1m13/13\u001b[0m \u001b[32m━━━━━━━━━━━━━━━━━━━━\u001b[0m\u001b[37m\u001b[0m \u001b[1m0s\u001b[0m 5ms/step - accuracy: 0.9567 - loss: 0.1570 - val_accuracy: 0.9649 - val_loss: 0.1284\n",
      "Epoch 34/50\n",
      "\u001b[1m13/13\u001b[0m \u001b[32m━━━━━━━━━━━━━━━━━━━━\u001b[0m\u001b[37m\u001b[0m \u001b[1m0s\u001b[0m 7ms/step - accuracy: 0.9436 - loss: 0.1653 - val_accuracy: 0.9649 - val_loss: 0.1260\n",
      "Epoch 35/50\n",
      "\u001b[1m13/13\u001b[0m \u001b[32m━━━━━━━━━━━━━━━━━━━━\u001b[0m\u001b[37m\u001b[0m \u001b[1m0s\u001b[0m 6ms/step - accuracy: 0.9569 - loss: 0.1449 - val_accuracy: 0.9649 - val_loss: 0.1238\n",
      "Epoch 36/50\n",
      "\u001b[1m13/13\u001b[0m \u001b[32m━━━━━━━━━━━━━━━━━━━━\u001b[0m\u001b[37m\u001b[0m \u001b[1m0s\u001b[0m 6ms/step - accuracy: 0.9736 - loss: 0.1341 - val_accuracy: 0.9649 - val_loss: 0.1217\n",
      "Epoch 37/50\n",
      "\u001b[1m13/13\u001b[0m \u001b[32m━━━━━━━━━━━━━━━━━━━━\u001b[0m\u001b[37m\u001b[0m \u001b[1m0s\u001b[0m 5ms/step - accuracy: 0.9514 - loss: 0.1443 - val_accuracy: 0.9649 - val_loss: 0.1197\n",
      "Epoch 38/50\n",
      "\u001b[1m13/13\u001b[0m \u001b[32m━━━━━━━━━━━━━━━━━━━━\u001b[0m\u001b[37m\u001b[0m \u001b[1m0s\u001b[0m 6ms/step - accuracy: 0.9596 - loss: 0.1429 - val_accuracy: 0.9649 - val_loss: 0.1177\n",
      "Epoch 39/50\n",
      "\u001b[1m13/13\u001b[0m \u001b[32m━━━━━━━━━━━━━━━━━━━━\u001b[0m\u001b[37m\u001b[0m \u001b[1m0s\u001b[0m 6ms/step - accuracy: 0.9544 - loss: 0.1525 - val_accuracy: 0.9649 - val_loss: 0.1159\n",
      "Epoch 40/50\n",
      "\u001b[1m13/13\u001b[0m \u001b[32m━━━━━━━━━━━━━━━━━━━━\u001b[0m\u001b[37m\u001b[0m \u001b[1m0s\u001b[0m 6ms/step - accuracy: 0.9635 - loss: 0.1393 - val_accuracy: 0.9649 - val_loss: 0.1141\n",
      "Epoch 41/50\n",
      "\u001b[1m13/13\u001b[0m \u001b[32m━━━━━━━━━━━━━━━━━━━━\u001b[0m\u001b[37m\u001b[0m \u001b[1m0s\u001b[0m 5ms/step - accuracy: 0.9558 - loss: 0.1481 - val_accuracy: 0.9649 - val_loss: 0.1125\n",
      "Epoch 42/50\n",
      "\u001b[1m13/13\u001b[0m \u001b[32m━━━━━━━━━━━━━━━━━━━━\u001b[0m\u001b[37m\u001b[0m \u001b[1m0s\u001b[0m 6ms/step - accuracy: 0.9493 - loss: 0.1342 - val_accuracy: 0.9649 - val_loss: 0.1108\n",
      "Epoch 43/50\n",
      "\u001b[1m13/13\u001b[0m \u001b[32m━━━━━━━━━━━━━━━━━━━━\u001b[0m\u001b[37m\u001b[0m \u001b[1m0s\u001b[0m 8ms/step - accuracy: 0.9443 - loss: 0.1566 - val_accuracy: 0.9649 - val_loss: 0.1092\n",
      "Epoch 44/50\n",
      "\u001b[1m13/13\u001b[0m \u001b[32m━━━━━━━━━━━━━━━━━━━━\u001b[0m\u001b[37m\u001b[0m \u001b[1m0s\u001b[0m 7ms/step - accuracy: 0.9547 - loss: 0.1419 - val_accuracy: 0.9649 - val_loss: 0.1076\n",
      "Epoch 45/50\n",
      "\u001b[1m13/13\u001b[0m \u001b[32m━━━━━━━━━━━━━━━━━━━━\u001b[0m\u001b[37m\u001b[0m \u001b[1m0s\u001b[0m 5ms/step - accuracy: 0.9631 - loss: 0.1288 - val_accuracy: 0.9649 - val_loss: 0.1062\n",
      "Epoch 46/50\n",
      "\u001b[1m13/13\u001b[0m \u001b[32m━━━━━━━━━━━━━━━━━━━━\u001b[0m\u001b[37m\u001b[0m \u001b[1m0s\u001b[0m 6ms/step - accuracy: 0.9618 - loss: 0.1318 - val_accuracy: 0.9649 - val_loss: 0.1048\n",
      "Epoch 47/50\n",
      "\u001b[1m13/13\u001b[0m \u001b[32m━━━━━━━━━━━━━━━━━━━━\u001b[0m\u001b[37m\u001b[0m \u001b[1m0s\u001b[0m 5ms/step - accuracy: 0.9619 - loss: 0.1322 - val_accuracy: 0.9649 - val_loss: 0.1035\n",
      "Epoch 48/50\n",
      "\u001b[1m13/13\u001b[0m \u001b[32m━━━━━━━━━━━━━━━━━━━━\u001b[0m\u001b[37m\u001b[0m \u001b[1m0s\u001b[0m 6ms/step - accuracy: 0.9696 - loss: 0.1221 - val_accuracy: 0.9708 - val_loss: 0.1021\n",
      "Epoch 49/50\n",
      "\u001b[1m13/13\u001b[0m \u001b[32m━━━━━━━━━━━━━━━━━━━━\u001b[0m\u001b[37m\u001b[0m \u001b[1m0s\u001b[0m 6ms/step - accuracy: 0.9703 - loss: 0.1112 - val_accuracy: 0.9708 - val_loss: 0.1010\n",
      "Epoch 50/50\n",
      "\u001b[1m13/13\u001b[0m \u001b[32m━━━━━━━━━━━━━━━━━━━━\u001b[0m\u001b[37m\u001b[0m \u001b[1m0s\u001b[0m 7ms/step - accuracy: 0.9568 - loss: 0.1382 - val_accuracy: 0.9708 - val_loss: 0.0998\n",
      "\u001b[1m6/6\u001b[0m \u001b[32m━━━━━━━━━━━━━━━━━━━━\u001b[0m\u001b[37m\u001b[0m \u001b[1m0s\u001b[0m 1ms/step - accuracy: 0.9762 - loss: 0.0942 \n",
      "Acurácia do Perceptron: 97.08%\n"
     ]
    }
   ],
   "source": [
    "\n",
    "# Pré-processamento\n",
    "scaler = StandardScaler()\n",
    "X_cancer_scaled = scaler.fit_transform(X_cancer)\n",
    "\n",
    "# Divisão de dados\n",
    "X_train, X_test, y_train, y_test = train_test_split(X_cancer_scaled, y_cancer, test_size=0.3, random_state=42)\n",
    "\n",
    "# Criando o modelo Perceptron\n",
    "model = Sequential([\n",
    "    Dense(1, input_dim=X_cancer.shape[1], activation='sigmoid')  # Perceptron simples\n",
    "])\n",
    "\n",
    "# Compilação do modelo\n",
    "model.compile(optimizer='adam', loss='binary_crossentropy', metrics=['accuracy'])\n",
    "\n",
    "# Treinando o modelo\n",
    "history = model.fit(X_train, y_train, epochs=50, validation_data=(X_test, y_test))\n",
    "\n",
    "# Avaliação\n",
    "loss, accuracy = model.evaluate(X_test, y_test)\n",
    "print(f\"Acurácia do Perceptron: {accuracy * 100:.2f}%\")\n"
   ]
  },
  {
   "cell_type": "markdown",
   "metadata": {
    "id": "z-I-pAkjF4FD"
   },
   "source": [
    "\n",
    "#### **Análise de Hiperparâmetros no Perceptron**\n",
    "\n",
    "##### **Impacto da Taxa de Aprendizado**"
   ]
  },
  {
   "cell_type": "code",
   "execution_count": 15,
   "metadata": {
    "colab": {
     "base_uri": "https://localhost:8080/",
     "height": 677
    },
    "id": "oTcX6rgcF5q8",
    "outputId": "75a087ec-23d7-4e71-8439-9968aa0f6f42"
   },
   "outputs": [
    {
     "name": "stdout",
     "output_type": "stream",
     "text": [
      "\n",
      "Treinando com learning rate = 0.01\n",
      "\n",
      "Treinando com learning rate = 0.001\n",
      "\n",
      "Treinando com learning rate = 0.0001\n"
     ]
    },
    {
     "data": {
      "image/png": "[encoded data removed]",
      "text/plain": [
       "<Figure size 1000x600 with 1 Axes>"
      ]
     },
     "metadata": {},
     "output_type": "display_data"
    }
   ],
   "source": [
    "\n",
    "\n",
    "# Testando diferentes taxas de aprendizado\n",
    "learning_rates = [0.01, 0.001, 0.0001]\n",
    "results = {}\n",
    "\n",
    "for lr in learning_rates:\n",
    "    print(f\"\\nTreinando com learning rate = {lr}\")\n",
    "\n",
    "    perceptron = Sequential([Dense(1, input_dim=X_cancer.shape[1], activation='sigmoid')])\n",
    "    perceptron.compile(optimizer=keras.optimizers.Adam(learning_rate=lr),\n",
    "                       loss='binary_crossentropy',\n",
    "                       metrics=['accuracy'])\n",
    "\n",
    "    history = perceptron.fit(X_train, y_train, epochs=50, validation_data=(X_test, y_test), verbose=0)\n",
    "    results[lr] = history.history['val_accuracy']\n",
    "\n",
    "# Plotando os resultados\n",
    "plt.figure(figsize=(10, 6))\n",
    "for lr, acc in results.items():\n",
    "    plt.plot(acc, label=f'Learning Rate: {lr}')\n",
    "plt.title(\"Impacto da Taxa de Aprendizado no Perceptron\")\n",
    "plt.xlabel(\"Épocas\")\n",
    "plt.ylabel(\"Acurácia de Validação\")\n",
    "plt.legend()\n",
    "plt.show()"
   ]
  },
  {
   "cell_type": "markdown",
   "metadata": {
    "id": "nRxyTDodGvo3"
   },
   "source": [
    "##### **Impacto do Número de Épocas**"
   ]
  },
  {
   "cell_type": "code",
   "execution_count": 18,
   "metadata": {
    "colab": {
     "base_uri": "https://localhost:8080/"
    },
    "id": "ML8e7BVwGxG-",
    "outputId": "0a070c40-ec50-437f-d1ff-a85ce4406dba"
   },
   "outputs": [
    {
     "name": "stdout",
     "output_type": "stream",
     "text": [
      "\n",
      "Treinando com 20 épocas\n"
     ]
    },
    {
     "name": "stderr",
     "output_type": "stream",
     "text": [
      "c:\\Users\\IvoAg\\AppData\\Local\\Programs\\Python\\Python311\\Lib\\site-packages\\keras\\src\\layers\\core\\dense.py:87: UserWarning: Do not pass an `input_shape`/`input_dim` argument to a layer. When using Sequential models, prefer using an `Input(shape)` object as the first layer in the model instead.\n",
      "  super().__init__(activity_regularizer=activity_regularizer, **kwargs)\n"
     ]
    },
    {
     "name": "stdout",
     "output_type": "stream",
     "text": [
      "Acurácia final com 20 épocas: 94.15%\n",
      "\n",
      "Treinando com 30 épocas\n",
      "Acurácia final com 30 épocas: 95.32%\n",
      "\n",
      "Treinando com 50 épocas\n",
      "Acurácia final com 50 épocas: 97.08%\n",
      "\n",
      "Treinando com 70 épocas\n",
      "Acurácia final com 70 épocas: 98.25%\n",
      "\n",
      "Treinando com 100 épocas\n",
      "Acurácia final com 100 épocas: 98.83%\n",
      "\n",
      "Treinando com 120 épocas\n",
      "Acurácia final com 120 épocas: 97.08%\n",
      "\n",
      "Treinando com 150 épocas\n",
      "Acurácia final com 150 épocas: 99.42%\n"
     ]
    }
   ],
   "source": [
    "\n",
    "# Treinamento com diferentes números de épocas\n",
    "epochs_list = [20,  30, 50,70, 100, 120 , 150]\n",
    "for epochs in epochs_list:\n",
    "    print(f\"\\nTreinando com {epochs} épocas\")\n",
    "\n",
    "    perceptron = Sequential([Dense(1, input_dim=X_cancer.shape[1], activation='sigmoid')])\n",
    "    perceptron.compile(optimizer='adam', loss='binary_crossentropy', metrics=['accuracy'])\n",
    "\n",
    "    history = perceptron.fit(X_train, y_train, epochs=epochs, validation_data=(X_test, y_test), verbose=0)\n",
    "    val_acc = history.history['val_accuracy'][-1]\n",
    "    print(f\"Acurácia final com {epochs} épocas: {val_acc * 100:.2f}%\")\n",
    "\n"
   ]
  },
  {
   "cell_type": "markdown",
   "metadata": {
    "id": "ImvwLHoAHcRY"
   },
   "source": [
    "\n",
    "## **Perceptron Multicamadas (MLP)**\n",
    "\n",
    "#### **O que é um Perceptron Multicamadas (MLP)?**\n",
    "O **MLP** é uma rede neural feedforward que consiste em múltiplas camadas, incluindo camadas ocultas entre a camada de entrada e a camada de saída. Diferente do perceptron simples, o MLP pode resolver problemas **não linearmente separáveis**.\n",
    "\n",
    "#### **Arquitetura do MLP**:\n",
    "1. **Camada de Entrada**: Recebe as características do dataset.\n",
    "2. **Camadas Ocultas**: São camadas intermediárias, responsáveis por aprender representações mais complexas dos dados.\n",
    "3. **Camada de Saída**: Retorna a previsão. Para classificação binária, utiliza a função de ativação **sigmoide**, e para múltiplas classes, a função **softmax** é utilizada.\n",
    "\n",
    "#### **Função de Ativação**:\n",
    "- **ReLU** (Rectified Linear Unit) é amplamente utilizada nas camadas ocultas, pois ajuda a mitigar o problema do **desvanecimento do gradiente**, comum nas funções de ativação como a sigmoide.\n",
    "\n"
   ]
  },
  {
   "cell_type": "markdown",
   "metadata": {
    "id": "VIM9cZj5HqHA"
   },
   "source": [
    "\n",
    "### **Implementação de MLP no Breast Cancer Dataset**\n",
    "\n"
   ]
  },
  {
   "cell_type": "code",
   "execution_count": 19,
   "metadata": {
    "colab": {
     "base_uri": "https://localhost:8080/"
    },
    "id": "bn9DlbV0Hb_v",
    "outputId": "0110fdfa-7552-4a9f-bb4d-2d711dda14f4"
   },
   "outputs": [
    {
     "name": "stderr",
     "output_type": "stream",
     "text": [
      "c:\\Users\\IvoAg\\AppData\\Local\\Programs\\Python\\Python311\\Lib\\site-packages\\keras\\src\\layers\\core\\dense.py:87: UserWarning: Do not pass an `input_shape`/`input_dim` argument to a layer. When using Sequential models, prefer using an `Input(shape)` object as the first layer in the model instead.\n",
      "  super().__init__(activity_regularizer=activity_regularizer, **kwargs)\n"
     ]
    },
    {
     "name": "stdout",
     "output_type": "stream",
     "text": [
      "Epoch 1/50\n",
      "\u001b[1m13/13\u001b[0m \u001b[32m━━━━━━━━━━━━━━━━━━━━\u001b[0m\u001b[37m\u001b[0m \u001b[1m2s\u001b[0m 22ms/step - accuracy: 0.6394 - loss: 0.6615 - val_accuracy: 0.7661 - val_loss: 0.5912\n",
      "Epoch 2/50\n",
      "\u001b[1m13/13\u001b[0m \u001b[32m━━━━━━━━━━━━━━━━━━━━\u001b[0m\u001b[37m\u001b[0m \u001b[1m0s\u001b[0m 4ms/step - accuracy: 0.8344 - loss: 0.5680 - val_accuracy: 0.8947 - val_loss: 0.5057\n",
      "Epoch 3/50\n",
      "\u001b[1m13/13\u001b[0m \u001b[32m━━━━━━━━━━━━━━━━━━━━\u001b[0m\u001b[37m\u001b[0m \u001b[1m0s\u001b[0m 6ms/step - accuracy: 0.8989 - loss: 0.4996 - val_accuracy: 0.9532 - val_loss: 0.4297\n",
      "Epoch 4/50\n",
      "\u001b[1m13/13\u001b[0m \u001b[32m━━━━━━━━━━━━━━━━━━━━\u001b[0m\u001b[37m\u001b[0m \u001b[1m0s\u001b[0m 6ms/step - accuracy: 0.9069 - loss: 0.4220 - val_accuracy: 0.9532 - val_loss: 0.3613\n",
      "Epoch 5/50\n",
      "\u001b[1m13/13\u001b[0m \u001b[32m━━━━━━━━━━━━━━━━━━━━\u001b[0m\u001b[37m\u001b[0m \u001b[1m0s\u001b[0m 5ms/step - accuracy: 0.9382 - loss: 0.3558 - val_accuracy: 0.9532 - val_loss: 0.3003\n",
      "Epoch 6/50\n",
      "\u001b[1m13/13\u001b[0m \u001b[32m━━━━━━━━━━━━━━━━━━━━\u001b[0m\u001b[37m\u001b[0m \u001b[1m0s\u001b[0m 6ms/step - accuracy: 0.9079 - loss: 0.3131 - val_accuracy: 0.9532 - val_loss: 0.2483\n",
      "Epoch 7/50\n",
      "\u001b[1m13/13\u001b[0m \u001b[32m━━━━━━━━━━━━━━━━━━━━\u001b[0m\u001b[37m\u001b[0m \u001b[1m0s\u001b[0m 5ms/step - accuracy: 0.9498 - loss: 0.2538 - val_accuracy: 0.9532 - val_loss: 0.2068\n",
      "Epoch 8/50\n",
      "\u001b[1m13/13\u001b[0m \u001b[32m━━━━━━━━━━━━━━━━━━━━\u001b[0m\u001b[37m\u001b[0m \u001b[1m0s\u001b[0m 6ms/step - accuracy: 0.9555 - loss: 0.2205 - val_accuracy: 0.9591 - val_loss: 0.1751\n",
      "Epoch 9/50\n",
      "\u001b[1m13/13\u001b[0m \u001b[32m━━━━━━━━━━━━━━━━━━━━\u001b[0m\u001b[37m\u001b[0m \u001b[1m0s\u001b[0m 5ms/step - accuracy: 0.9731 - loss: 0.1801 - val_accuracy: 0.9708 - val_loss: 0.1504\n",
      "Epoch 10/50\n",
      "\u001b[1m13/13\u001b[0m \u001b[32m━━━━━━━━━━━━━━━━━━━━\u001b[0m\u001b[37m\u001b[0m \u001b[1m0s\u001b[0m 6ms/step - accuracy: 0.9609 - loss: 0.1684 - val_accuracy: 0.9708 - val_loss: 0.1322\n",
      "Epoch 11/50\n",
      "\u001b[1m13/13\u001b[0m \u001b[32m━━━━━━━━━━━━━━━━━━━━\u001b[0m\u001b[37m\u001b[0m \u001b[1m0s\u001b[0m 6ms/step - accuracy: 0.9590 - loss: 0.1468 - val_accuracy: 0.9766 - val_loss: 0.1184\n",
      "Epoch 12/50\n",
      "\u001b[1m13/13\u001b[0m \u001b[32m━━━━━━━━━━━━━━━━━━━━\u001b[0m\u001b[37m\u001b[0m \u001b[1m0s\u001b[0m 5ms/step - accuracy: 0.9770 - loss: 0.1336 - val_accuracy: 0.9766 - val_loss: 0.1068\n",
      "Epoch 13/50\n",
      "\u001b[1m13/13\u001b[0m \u001b[32m━━━━━━━━━━━━━━━━━━━━\u001b[0m\u001b[37m\u001b[0m \u001b[1m0s\u001b[0m 7ms/step - accuracy: 0.9668 - loss: 0.1273 - val_accuracy: 0.9825 - val_loss: 0.0978\n",
      "Epoch 14/50\n",
      "\u001b[1m13/13\u001b[0m \u001b[32m━━━━━━━━━━━━━━━━━━━━\u001b[0m\u001b[37m\u001b[0m \u001b[1m0s\u001b[0m 6ms/step - accuracy: 0.9614 - loss: 0.1156 - val_accuracy: 0.9883 - val_loss: 0.0911\n",
      "Epoch 15/50\n",
      "\u001b[1m13/13\u001b[0m \u001b[32m━━━━━━━━━━━━━━━━━━━━\u001b[0m\u001b[37m\u001b[0m \u001b[1m0s\u001b[0m 5ms/step - accuracy: 0.9582 - loss: 0.1259 - val_accuracy: 0.9883 - val_loss: 0.0851\n",
      "Epoch 16/50\n",
      "\u001b[1m13/13\u001b[0m \u001b[32m━━━━━━━━━━━━━━━━━━━━\u001b[0m\u001b[37m\u001b[0m \u001b[1m0s\u001b[0m 6ms/step - accuracy: 0.9765 - loss: 0.0993 - val_accuracy: 0.9883 - val_loss: 0.0800\n",
      "Epoch 17/50\n",
      "\u001b[1m13/13\u001b[0m \u001b[32m━━━━━━━━━━━━━━━━━━━━\u001b[0m\u001b[37m\u001b[0m \u001b[1m0s\u001b[0m 6ms/step - accuracy: 0.9661 - loss: 0.1085 - val_accuracy: 0.9883 - val_loss: 0.0761\n",
      "Epoch 18/50\n",
      "\u001b[1m13/13\u001b[0m \u001b[32m━━━━━━━━━━━━━━━━━━━━\u001b[0m\u001b[37m\u001b[0m \u001b[1m0s\u001b[0m 6ms/step - accuracy: 0.9682 - loss: 0.0837 - val_accuracy: 0.9883 - val_loss: 0.0722\n",
      "Epoch 19/50\n",
      "\u001b[1m13/13\u001b[0m \u001b[32m━━━━━━━━━━━━━━━━━━━━\u001b[0m\u001b[37m\u001b[0m \u001b[1m0s\u001b[0m 5ms/step - accuracy: 0.9717 - loss: 0.0908 - val_accuracy: 0.9883 - val_loss: 0.0690\n",
      "Epoch 20/50\n",
      "\u001b[1m13/13\u001b[0m \u001b[32m━━━━━━━━━━━━━━━━━━━━\u001b[0m\u001b[37m\u001b[0m \u001b[1m0s\u001b[0m 6ms/step - accuracy: 0.9726 - loss: 0.0945 - val_accuracy: 0.9883 - val_loss: 0.0664\n",
      "Epoch 21/50\n",
      "\u001b[1m13/13\u001b[0m \u001b[32m━━━━━━━━━━━━━━━━━━━━\u001b[0m\u001b[37m\u001b[0m \u001b[1m0s\u001b[0m 6ms/step - accuracy: 0.9855 - loss: 0.0707 - val_accuracy: 0.9883 - val_loss: 0.0637\n",
      "Epoch 22/50\n",
      "\u001b[1m13/13\u001b[0m \u001b[32m━━━━━━━━━━━━━━━━━━━━\u001b[0m\u001b[37m\u001b[0m \u001b[1m0s\u001b[0m 7ms/step - accuracy: 0.9772 - loss: 0.0850 - val_accuracy: 0.9883 - val_loss: 0.0618\n",
      "Epoch 23/50\n",
      "\u001b[1m13/13\u001b[0m \u001b[32m━━━━━━━━━━━━━━━━━━━━\u001b[0m\u001b[37m\u001b[0m \u001b[1m0s\u001b[0m 5ms/step - accuracy: 0.9823 - loss: 0.0642 - val_accuracy: 0.9883 - val_loss: 0.0600\n",
      "Epoch 24/50\n",
      "\u001b[1m13/13\u001b[0m \u001b[32m━━━━━━━━━━━━━━━━━━━━\u001b[0m\u001b[37m\u001b[0m \u001b[1m0s\u001b[0m 6ms/step - accuracy: 0.9739 - loss: 0.0810 - val_accuracy: 0.9883 - val_loss: 0.0590\n",
      "Epoch 25/50\n",
      "\u001b[1m13/13\u001b[0m \u001b[32m━━━━━━━━━━━━━━━━━━━━\u001b[0m\u001b[37m\u001b[0m \u001b[1m0s\u001b[0m 7ms/step - accuracy: 0.9886 - loss: 0.0543 - val_accuracy: 0.9883 - val_loss: 0.0575\n",
      "Epoch 26/50\n",
      "\u001b[1m13/13\u001b[0m \u001b[32m━━━━━━━━━━━━━━━━━━━━\u001b[0m\u001b[37m\u001b[0m \u001b[1m0s\u001b[0m 5ms/step - accuracy: 0.9867 - loss: 0.0510 - val_accuracy: 0.9883 - val_loss: 0.0557\n",
      "Epoch 27/50\n",
      "\u001b[1m13/13\u001b[0m \u001b[32m━━━━━━━━━━━━━━━━━━━━\u001b[0m\u001b[37m\u001b[0m \u001b[1m0s\u001b[0m 6ms/step - accuracy: 0.9849 - loss: 0.0628 - val_accuracy: 0.9883 - val_loss: 0.0548\n",
      "Epoch 28/50\n",
      "\u001b[1m13/13\u001b[0m \u001b[32m━━━━━━━━━━━━━━━━━━━━\u001b[0m\u001b[37m\u001b[0m \u001b[1m0s\u001b[0m 5ms/step - accuracy: 0.9837 - loss: 0.0608 - val_accuracy: 0.9883 - val_loss: 0.0531\n",
      "Epoch 29/50\n",
      "\u001b[1m13/13\u001b[0m \u001b[32m━━━━━━━━━━━━━━━━━━━━\u001b[0m\u001b[37m\u001b[0m \u001b[1m0s\u001b[0m 5ms/step - accuracy: 0.9856 - loss: 0.0570 - val_accuracy: 0.9883 - val_loss: 0.0522\n",
      "Epoch 30/50\n",
      "\u001b[1m13/13\u001b[0m \u001b[32m━━━━━━━━━━━━━━━━━━━━\u001b[0m\u001b[37m\u001b[0m \u001b[1m0s\u001b[0m 5ms/step - accuracy: 0.9910 - loss: 0.0402 - val_accuracy: 0.9883 - val_loss: 0.0509\n",
      "Epoch 31/50\n",
      "\u001b[1m13/13\u001b[0m \u001b[32m━━━━━━━━━━━━━━━━━━━━\u001b[0m\u001b[37m\u001b[0m \u001b[1m0s\u001b[0m 5ms/step - accuracy: 0.9911 - loss: 0.0470 - val_accuracy: 0.9883 - val_loss: 0.0503\n",
      "Epoch 32/50\n",
      "\u001b[1m13/13\u001b[0m \u001b[32m━━━━━━━━━━━━━━━━━━━━\u001b[0m\u001b[37m\u001b[0m \u001b[1m0s\u001b[0m 6ms/step - accuracy: 0.9839 - loss: 0.0570 - val_accuracy: 0.9883 - val_loss: 0.0498\n",
      "Epoch 33/50\n",
      "\u001b[1m13/13\u001b[0m \u001b[32m━━━━━━━━━━━━━━━━━━━━\u001b[0m\u001b[37m\u001b[0m \u001b[1m0s\u001b[0m 7ms/step - accuracy: 0.9821 - loss: 0.0536 - val_accuracy: 0.9883 - val_loss: 0.0489\n",
      "Epoch 34/50\n",
      "\u001b[1m13/13\u001b[0m \u001b[32m━━━━━━━━━━━━━━━━━━━━\u001b[0m\u001b[37m\u001b[0m \u001b[1m0s\u001b[0m 7ms/step - accuracy: 0.9935 - loss: 0.0418 - val_accuracy: 0.9883 - val_loss: 0.0483\n",
      "Epoch 35/50\n",
      "\u001b[1m13/13\u001b[0m \u001b[32m━━━━━━━━━━━━━━━━━━━━\u001b[0m\u001b[37m\u001b[0m \u001b[1m0s\u001b[0m 7ms/step - accuracy: 0.9888 - loss: 0.0566 - val_accuracy: 0.9883 - val_loss: 0.0479\n",
      "Epoch 36/50\n",
      "\u001b[1m13/13\u001b[0m \u001b[32m━━━━━━━━━━━━━━━━━━━━\u001b[0m\u001b[37m\u001b[0m \u001b[1m0s\u001b[0m 6ms/step - accuracy: 0.9896 - loss: 0.0489 - val_accuracy: 0.9883 - val_loss: 0.0470\n",
      "Epoch 37/50\n",
      "\u001b[1m13/13\u001b[0m \u001b[32m━━━━━━━━━━━━━━━━━━━━\u001b[0m\u001b[37m\u001b[0m \u001b[1m0s\u001b[0m 7ms/step - accuracy: 0.9882 - loss: 0.0633 - val_accuracy: 0.9883 - val_loss: 0.0468\n",
      "Epoch 38/50\n",
      "\u001b[1m13/13\u001b[0m \u001b[32m━━━━━━━━━━━━━━━━━━━━\u001b[0m\u001b[37m\u001b[0m \u001b[1m0s\u001b[0m 11ms/step - accuracy: 0.9796 - loss: 0.0756 - val_accuracy: 0.9883 - val_loss: 0.0465\n",
      "Epoch 39/50\n",
      "\u001b[1m13/13\u001b[0m \u001b[32m━━━━━━━━━━━━━━━━━━━━\u001b[0m\u001b[37m\u001b[0m \u001b[1m0s\u001b[0m 7ms/step - accuracy: 0.9913 - loss: 0.0541 - val_accuracy: 0.9883 - val_loss: 0.0459\n",
      "Epoch 40/50\n",
      "\u001b[1m13/13\u001b[0m \u001b[32m━━━━━━━━━━━━━━━━━━━━\u001b[0m\u001b[37m\u001b[0m \u001b[1m0s\u001b[0m 5ms/step - accuracy: 0.9986 - loss: 0.0313 - val_accuracy: 0.9883 - val_loss: 0.0452\n",
      "Epoch 41/50\n",
      "\u001b[1m13/13\u001b[0m \u001b[32m━━━━━━━━━━━━━━━━━━━━\u001b[0m\u001b[37m\u001b[0m \u001b[1m0s\u001b[0m 6ms/step - accuracy: 0.9930 - loss: 0.0430 - val_accuracy: 0.9883 - val_loss: 0.0452\n",
      "Epoch 42/50\n",
      "\u001b[1m13/13\u001b[0m \u001b[32m━━━━━━━━━━━━━━━━━━━━\u001b[0m\u001b[37m\u001b[0m \u001b[1m0s\u001b[0m 6ms/step - accuracy: 0.9781 - loss: 0.0767 - val_accuracy: 0.9883 - val_loss: 0.0449\n",
      "Epoch 43/50\n",
      "\u001b[1m13/13\u001b[0m \u001b[32m━━━━━━━━━━━━━━━━━━━━\u001b[0m\u001b[37m\u001b[0m \u001b[1m0s\u001b[0m 6ms/step - accuracy: 0.9920 - loss: 0.0353 - val_accuracy: 0.9883 - val_loss: 0.0444\n",
      "Epoch 44/50\n",
      "\u001b[1m13/13\u001b[0m \u001b[32m━━━━━━━━━━━━━━━━━━━━\u001b[0m\u001b[37m\u001b[0m \u001b[1m0s\u001b[0m 6ms/step - accuracy: 0.9958 - loss: 0.0325 - val_accuracy: 0.9883 - val_loss: 0.0444\n",
      "Epoch 45/50\n",
      "\u001b[1m13/13\u001b[0m \u001b[32m━━━━━━━━━━━━━━━━━━━━\u001b[0m\u001b[37m\u001b[0m \u001b[1m0s\u001b[0m 6ms/step - accuracy: 0.9919 - loss: 0.0446 - val_accuracy: 0.9883 - val_loss: 0.0445\n",
      "Epoch 46/50\n",
      "\u001b[1m13/13\u001b[0m \u001b[32m━━━━━━━━━━━━━━━━━━━━\u001b[0m\u001b[37m\u001b[0m \u001b[1m0s\u001b[0m 6ms/step - accuracy: 0.9826 - loss: 0.0641 - val_accuracy: 0.9883 - val_loss: 0.0438\n",
      "Epoch 47/50\n",
      "\u001b[1m13/13\u001b[0m \u001b[32m━━━━━━━━━━━━━━━━━━━━\u001b[0m\u001b[37m\u001b[0m \u001b[1m0s\u001b[0m 6ms/step - accuracy: 0.9958 - loss: 0.0332 - val_accuracy: 0.9883 - val_loss: 0.0431\n",
      "Epoch 48/50\n",
      "\u001b[1m13/13\u001b[0m \u001b[32m━━━━━━━━━━━━━━━━━━━━\u001b[0m\u001b[37m\u001b[0m \u001b[1m0s\u001b[0m 5ms/step - accuracy: 0.9946 - loss: 0.0346 - val_accuracy: 0.9883 - val_loss: 0.0429\n",
      "Epoch 49/50\n",
      "\u001b[1m13/13\u001b[0m \u001b[32m━━━━━━━━━━━━━━━━━━━━\u001b[0m\u001b[37m\u001b[0m \u001b[1m0s\u001b[0m 6ms/step - accuracy: 0.9949 - loss: 0.0371 - val_accuracy: 0.9883 - val_loss: 0.0428\n",
      "Epoch 50/50\n",
      "\u001b[1m13/13\u001b[0m \u001b[32m━━━━━━━━━━━━━━━━━━━━\u001b[0m\u001b[37m\u001b[0m \u001b[1m0s\u001b[0m 5ms/step - accuracy: 0.9932 - loss: 0.0327 - val_accuracy: 0.9883 - val_loss: 0.0428\n",
      "\u001b[1m6/6\u001b[0m \u001b[32m━━━━━━━━━━━━━━━━━━━━\u001b[0m\u001b[37m\u001b[0m \u001b[1m0s\u001b[0m 2ms/step - accuracy: 0.9763 - loss: 0.0614 \n",
      "Acurácia do MLP: 98.83%\n"
     ]
    }
   ],
   "source": [
    "\n",
    "# Criando o modelo MLP\n",
    "mlp_model = Sequential([\n",
    "    Dense(16, input_dim=X_cancer.shape[1], activation='relu'),  # Primeira camada oculta\n",
    "    Dense(8, activation='relu'),                               # Segunda camada oculta\n",
    "    Dense(1, activation='sigmoid')                             # Camada de saída\n",
    "])\n",
    "\n",
    "# Compilação\n",
    "mlp_model.compile(optimizer='adam', loss='binary_crossentropy', metrics=['accuracy'])\n",
    "\n",
    "# Treinando o modelo\n",
    "mlp_history = mlp_model.fit(X_train, y_train, epochs=50, validation_data=(X_test, y_test))\n",
    "\n",
    "# Avaliação\n",
    "mlp_loss, mlp_accuracy = mlp_model.evaluate(X_test, y_test)\n",
    "print(f\"Acurácia do MLP: {mlp_accuracy * 100:.2f}%\")\n",
    "\n"
   ]
  },
  {
   "cell_type": "markdown",
   "metadata": {
    "id": "h4P684VjJ3FY"
   },
   "source": [
    "#### **Análise de Hiperparâmetros no MLP**\n",
    "Agora que você treinou o modelo MLP, vamos testar diferentes configurações de hiperparâmetros para ver como influenciam os resultados. Experimente variações como:\n",
    "\n",
    "1. **Número de Camadas Ocultas**: Aumentar ou diminuir o número de camadas pode afetar a capacidade do modelo de aprender padrões complexos.\n",
    "2. **Tamanho das Camadas**: Camadas maiores podem melhorar a capacidade do modelo, mas também podem aumentar o risco de overfitting.\n",
    "3. **Função de Ativação**: Teste diferentes funções de ativação como **tanh** ou **sigmoid**.\n",
    "4. **Número de Épocas**: Avalie o desempenho com diferentes números de épocas de treinamento."
   ]
  },
  {
   "cell_type": "code",
   "execution_count": 20,
   "metadata": {
    "colab": {
     "base_uri": "https://localhost:8080/",
     "height": 973
    },
    "id": "Y84XGzfkJ4nP",
    "outputId": "b4f01662-edb9-40b1-f6d5-1377ed7133f9"
   },
   "outputs": [
    {
     "name": "stderr",
     "output_type": "stream",
     "text": [
      "c:\\Users\\IvoAg\\AppData\\Local\\Programs\\Python\\Python311\\Lib\\site-packages\\sklearn\\neural_network\\_multilayer_perceptron.py:690: ConvergenceWarning: Stochastic Optimizer: Maximum iterations (500) reached and the optimization hasn't converged yet.\n",
      "  warnings.warn(\n",
      "C:\\Users\\IvoAg\\AppData\\Local\\Temp\\ipykernel_19188\\3502528306.py:26: UserWarning: set_ticklabels() should only be used with a fixed number of ticks, i.e. after set_ticks() or using a FixedLocator.\n",
      "  plt.gca().set_xticklabels([f'{x:.2f}' for x in plt.gca().get_xticks()])\n"
     ]
    },
    {
     "data": {
      "image/png": "[encoded data removed]",
      "text/plain": [
       "<Figure size 1200x600 with 1 Axes>"
      ]
     },
     "metadata": {},
     "output_type": "display_data"
    },
    {
     "data": {
      "text/html": [
       "<div>\n",
       "<style scoped>\n",
       "    .dataframe tbody tr th:only-of-type {\n",
       "        vertical-align: middle;\n",
       "    }\n",
       "\n",
       "    .dataframe tbody tr th {\n",
       "        vertical-align: top;\n",
       "    }\n",
       "\n",
       "    .dataframe thead th {\n",
       "        text-align: right;\n",
       "    }\n",
       "</style>\n",
       "<table border=\"1\" class=\"dataframe\">\n",
       "  <thead>\n",
       "    <tr style=\"text-align: right;\">\n",
       "      <th></th>\n",
       "      <th>Hidden Layers</th>\n",
       "      <th>Activation</th>\n",
       "      <th>Accuracy</th>\n",
       "      <th>MLP</th>\n",
       "    </tr>\n",
       "  </thead>\n",
       "  <tbody>\n",
       "    <tr>\n",
       "      <th>0</th>\n",
       "      <td>(10,)</td>\n",
       "      <td>relu</td>\n",
       "      <td>0.988304</td>\n",
       "      <td>mlp 1</td>\n",
       "    </tr>\n",
       "    <tr>\n",
       "      <th>1</th>\n",
       "      <td>(10,)</td>\n",
       "      <td>tanh</td>\n",
       "      <td>0.982456</td>\n",
       "      <td>mlp 2</td>\n",
       "    </tr>\n",
       "    <tr>\n",
       "      <th>2</th>\n",
       "      <td>(10,)</td>\n",
       "      <td>logistic</td>\n",
       "      <td>0.988304</td>\n",
       "      <td>mlp 3</td>\n",
       "    </tr>\n",
       "    <tr>\n",
       "      <th>3</th>\n",
       "      <td>(20,)</td>\n",
       "      <td>relu</td>\n",
       "      <td>0.982456</td>\n",
       "      <td>mlp 4</td>\n",
       "    </tr>\n",
       "    <tr>\n",
       "      <th>4</th>\n",
       "      <td>(20,)</td>\n",
       "      <td>tanh</td>\n",
       "      <td>0.988304</td>\n",
       "      <td>mlp 5</td>\n",
       "    </tr>\n",
       "    <tr>\n",
       "      <th>5</th>\n",
       "      <td>(20,)</td>\n",
       "      <td>logistic</td>\n",
       "      <td>0.988304</td>\n",
       "      <td>mlp 6</td>\n",
       "    </tr>\n",
       "    <tr>\n",
       "      <th>6</th>\n",
       "      <td>(30,)</td>\n",
       "      <td>relu</td>\n",
       "      <td>0.982456</td>\n",
       "      <td>mlp 7</td>\n",
       "    </tr>\n",
       "    <tr>\n",
       "      <th>7</th>\n",
       "      <td>(30,)</td>\n",
       "      <td>tanh</td>\n",
       "      <td>0.988304</td>\n",
       "      <td>mlp 8</td>\n",
       "    </tr>\n",
       "    <tr>\n",
       "      <th>8</th>\n",
       "      <td>(30,)</td>\n",
       "      <td>logistic</td>\n",
       "      <td>0.994152</td>\n",
       "      <td>mlp 9</td>\n",
       "    </tr>\n",
       "  </tbody>\n",
       "</table>\n",
       "</div>"
      ],
      "text/plain": [
       "  Hidden Layers Activation  Accuracy    MLP\n",
       "0         (10,)       relu  0.988304  mlp 1\n",
       "1         (10,)       tanh  0.982456  mlp 2\n",
       "2         (10,)   logistic  0.988304  mlp 3\n",
       "3         (20,)       relu  0.982456  mlp 4\n",
       "4         (20,)       tanh  0.988304  mlp 5\n",
       "5         (20,)   logistic  0.988304  mlp 6\n",
       "6         (30,)       relu  0.982456  mlp 7\n",
       "7         (30,)       tanh  0.988304  mlp 8\n",
       "8         (30,)   logistic  0.994152  mlp 9"
      ]
     },
     "execution_count": 20,
     "metadata": {},
     "output_type": "execute_result"
    }
   ],
   "source": [
    "\n",
    "# Variáveis para armazenar os resultados\n",
    "hidden_layer_sizes = [(10,), (20,), (30,)]\n",
    "activation_functions = ['relu', 'tanh', 'logistic']\n",
    "results = []\n",
    "mlp = []\n",
    "id_mlp = 1\n",
    "\n",
    "# Loop para treinar o MLP com diferentes hiperparâmetros\n",
    "for layers in hidden_layer_sizes:\n",
    "    for activation in activation_functions:\n",
    "        mlp = MLPClassifier(hidden_layer_sizes=layers, activation=activation, max_iter=500, random_state=42)\n",
    "        mlp.fit(X_train, y_train)\n",
    "        y_pred = mlp.predict(X_test)\n",
    "        accuracy = accuracy_score(y_test, y_pred)\n",
    "        results.append((str(layers), activation, accuracy, f\"mlp {id_mlp}\"))\n",
    "        id_mlp += 1\n",
    "\n",
    "# Converter resultados para DataFrame para facilitar o gráfico\n",
    "results_df = pd.DataFrame(results, columns=['Hidden Layers', 'Activation', 'Accuracy','MLP'])\n",
    "\n",
    "# Plotar os gráficos de acurácia\n",
    "plt.figure(figsize=(12, 6))\n",
    "sns.barplot(x='MLP', y='Accuracy', hue='MLP', data=results_df, palette=\"viridis\", orient='v')\n",
    "\n",
    "# Formatar os rótulos do eixo X para exibir apenas 2 casas decimais\n",
    "plt.gca().set_xticklabels([f'{x:.2f}' for x in plt.gca().get_xticks()])\n",
    "plt.title('Comparação de Acurácia do MLP com Diferentes Hiperparâmetros')\n",
    "plt.ylabel('Acurácia')\n",
    "plt.xlabel('MLP')\n",
    "plt.show()\n",
    "results_df\n"
   ]
  },
  {
   "cell_type": "markdown",
   "metadata": {
    "id": "85rXx1ADK2iu"
   },
   "source": [
    "\n",
    "## **Redes Neurais Convolucionais (CNN)**\n",
    "\n",
    "#### **O que são Redes Convolucionais?**\n",
    "As **Redes Neurais Convolucionais (CNN)** são modelos especializados em lidar com dados espaciais, como **imagens**. Elas utilizam camadas convolucionais para detectar padrões locais, como bordas e texturas.\n",
    "\n",
    "#### **Componentes principais de uma CNN**:\n",
    "1. **Camada Convolucional**: Realiza a convolução dos filtros (kernels) nas imagens de entrada, extraindo características.\n",
    "2. **Max Pooling**: Reduz a dimensionalidade da imagem, mantendo características importantes.\n",
    "3. **Camada de Flatten**: Converte a matriz 2D em um vetor 1D para ser processada por camadas densas.\n",
    "4. **Camadas Densas**: Realizam a classificação baseada nas características extraídas.\n",
    "\n",
    "\n"
   ]
  },
  {
   "cell_type": "markdown",
   "metadata": {
    "id": "xzLCITgaLc80"
   },
   "source": [
    "\n",
    "### **Implementação de CNN no MNIST Dataset**\n"
   ]
  },
  {
   "cell_type": "code",
   "execution_count": 21,
   "metadata": {
    "colab": {
     "base_uri": "https://localhost:8080/"
    },
    "id": "3fMNdHAGLlnH",
    "outputId": "989a8efc-a345-4927-951a-38dab8abae24"
   },
   "outputs": [
    {
     "name": "stderr",
     "output_type": "stream",
     "text": [
      "c:\\Users\\IvoAg\\AppData\\Local\\Programs\\Python\\Python311\\Lib\\site-packages\\keras\\src\\layers\\convolutional\\base_conv.py:107: UserWarning: Do not pass an `input_shape`/`input_dim` argument to a layer. When using Sequential models, prefer using an `Input(shape)` object as the first layer in the model instead.\n",
      "  super().__init__(activity_regularizer=activity_regularizer, **kwargs)\n"
     ]
    },
    {
     "name": "stdout",
     "output_type": "stream",
     "text": [
      "Epoch 1/5\n",
      "\u001b[1m1875/1875\u001b[0m \u001b[32m━━━━━━━━━━━━━━━━━━━━\u001b[0m\u001b[37m\u001b[0m \u001b[1m17s\u001b[0m 8ms/step - accuracy: 0.8999 - loss: 0.3368 - val_accuracy: 0.9763 - val_loss: 0.0725\n",
      "Epoch 2/5\n",
      "\u001b[1m1875/1875\u001b[0m \u001b[32m━━━━━━━━━━━━━━━━━━━━\u001b[0m\u001b[37m\u001b[0m \u001b[1m17s\u001b[0m 9ms/step - accuracy: 0.9806 - loss: 0.0610 - val_accuracy: 0.9814 - val_loss: 0.0572\n",
      "Epoch 3/5\n",
      "\u001b[1m1875/1875\u001b[0m \u001b[32m━━━━━━━━━━━━━━━━━━━━\u001b[0m\u001b[37m\u001b[0m \u001b[1m13s\u001b[0m 7ms/step - accuracy: 0.9879 - loss: 0.0397 - val_accuracy: 0.9851 - val_loss: 0.0477\n",
      "Epoch 4/5\n",
      "\u001b[1m1875/1875\u001b[0m \u001b[32m━━━━━━━━━━━━━━━━━━━━\u001b[0m\u001b[37m\u001b[0m \u001b[1m13s\u001b[0m 7ms/step - accuracy: 0.9923 - loss: 0.0252 - val_accuracy: 0.9834 - val_loss: 0.0553\n",
      "Epoch 5/5\n",
      "\u001b[1m1875/1875\u001b[0m \u001b[32m━━━━━━━━━━━━━━━━━━━━\u001b[0m\u001b[37m\u001b[0m \u001b[1m12s\u001b[0m 6ms/step - accuracy: 0.9941 - loss: 0.0194 - val_accuracy: 0.9835 - val_loss: 0.0513\n",
      "\u001b[1m313/313\u001b[0m \u001b[32m━━━━━━━━━━━━━━━━━━━━\u001b[0m\u001b[37m\u001b[0m \u001b[1m1s\u001b[0m 2ms/step - accuracy: 0.9793 - loss: 0.0661\n",
      "Acurácia da CNN: 98.35%\n"
     ]
    }
   ],
   "source": [
    "\n",
    "# Normalização do MNIST\n",
    "X_mnist_train = X_mnist_train / 255.0\n",
    "X_mnist_test = X_mnist_test / 255.0\n",
    "\n",
    "# Expandindo a dimensão para 4D (necessário para CNN)\n",
    "X_mnist_train = X_mnist_train[..., np.newaxis]\n",
    "X_mnist_test = X_mnist_test[..., np.newaxis]\n",
    "\n",
    "# Criando o modelo CNN\n",
    "cnn_model = Sequential([\n",
    "    Conv2D(32, (3, 3), activation='relu', input_shape=(28, 28, 1)),\n",
    "    MaxPooling2D((2, 2)),\n",
    "    Flatten(),\n",
    "    Dense(64, activation='relu'),\n",
    "    Dense(10, activation='softmax')  # 10 classes para dígitos 0-9\n",
    "])\n",
    "\n",
    "# Compilação\n",
    "cnn_model.compile(optimizer='adam', loss='sparse_categorical_crossentropy', metrics=['accuracy'])\n",
    "\n",
    "# Treinando o modelo\n",
    "cnn_history = cnn_model.fit(X_mnist_train, y_mnist_train, epochs=5, validation_data=(X_mnist_test, y_mnist_test))\n",
    "\n",
    "# Avaliação\n",
    "cnn_loss, cnn_accuracy = cnn_model.evaluate(X_mnist_test, y_mnist_test)\n",
    "print(f\"Acurácia da CNN: {cnn_accuracy * 100:.2f}%\")\n",
    "\n"
   ]
  },
  {
   "cell_type": "markdown",
   "metadata": {
    "id": "2PLkq4Q3LXa0"
   },
   "source": [
    "\n",
    "#### **Análise de Hiperparâmetros na CNN**\n",
    "Experimente as seguintes variações no modelo para analisar o impacto dos hiperparâmetros:\n",
    "\n",
    "1. **Número de Filtros (Convoluções)**: Aumente ou diminua o número de filtros nas camadas convolucionais.\n",
    "2. **Tamanho do Filtro**: Teste diferentes tamanhos de filtros (ex. \\(3 X 3\\), \\(5 X 5\\)).\n",
    "3. **Número de Épocas**: O número de épocas pode afetar o overfitting. Experimente com **10, 20 ou 50** épocas.\n",
    "4. **Função de Ativação**: Teste outras funções como **tanh** ou **Leaky ReLU**.\n",
    "5. **Otimizador :** Adam, SGD, Nadan\n"
   ]
  },
  {
   "cell_type": "code",
   "execution_count": 22,
   "metadata": {
    "colab": {
     "base_uri": "https://localhost:8080/",
     "height": 916
    },
    "id": "fbRxiiexK6aW",
    "outputId": "44ed3ac9-95dc-4c65-ce5f-b8cf12416d7a"
   },
   "outputs": [
    {
     "name": "stderr",
     "output_type": "stream",
     "text": [
      "C:\\Users\\IvoAg\\AppData\\Local\\Temp\\ipykernel_19188\\1129344096.py:39: UserWarning: set_ticklabels() should only be used with a fixed number of ticks, i.e. after set_ticks() or using a FixedLocator.\n",
      "  plt.gca().set_xticklabels([f'{x:.2f}' for x in plt.gca().get_xticks()])\n"
     ]
    },
    {
     "data": {
      "image/png": "[encoded data removed]",
      "text/plain": [
       "<Figure size 1200x600 with 1 Axes>"
      ]
     },
     "metadata": {},
     "output_type": "display_data"
    },
    {
     "data": {
      "text/html": [
       "<div>\n",
       "<style scoped>\n",
       "    .dataframe tbody tr th:only-of-type {\n",
       "        vertical-align: middle;\n",
       "    }\n",
       "\n",
       "    .dataframe tbody tr th {\n",
       "        vertical-align: top;\n",
       "    }\n",
       "\n",
       "    .dataframe thead th {\n",
       "        text-align: right;\n",
       "    }\n",
       "</style>\n",
       "<table border=\"1\" class=\"dataframe\">\n",
       "  <thead>\n",
       "    <tr style=\"text-align: right;\">\n",
       "      <th></th>\n",
       "      <th>Filters</th>\n",
       "      <th>Kernel Size</th>\n",
       "      <th>Accuracy</th>\n",
       "      <th>CNN</th>\n",
       "    </tr>\n",
       "  </thead>\n",
       "  <tbody>\n",
       "    <tr>\n",
       "      <th>0</th>\n",
       "      <td>4</td>\n",
       "      <td>(3, 3)</td>\n",
       "      <td>0.9576</td>\n",
       "      <td>cnn 1</td>\n",
       "    </tr>\n",
       "    <tr>\n",
       "      <th>1</th>\n",
       "      <td>4</td>\n",
       "      <td>(5, 5)</td>\n",
       "      <td>0.9673</td>\n",
       "      <td>cnn 2</td>\n",
       "    </tr>\n",
       "    <tr>\n",
       "      <th>2</th>\n",
       "      <td>4</td>\n",
       "      <td>(7, 7)</td>\n",
       "      <td>0.9748</td>\n",
       "      <td>cnn 3</td>\n",
       "    </tr>\n",
       "    <tr>\n",
       "      <th>3</th>\n",
       "      <td>8</td>\n",
       "      <td>(3, 3)</td>\n",
       "      <td>0.9728</td>\n",
       "      <td>cnn 4</td>\n",
       "    </tr>\n",
       "    <tr>\n",
       "      <th>4</th>\n",
       "      <td>8</td>\n",
       "      <td>(5, 5)</td>\n",
       "      <td>0.9722</td>\n",
       "      <td>cnn 5</td>\n",
       "    </tr>\n",
       "    <tr>\n",
       "      <th>5</th>\n",
       "      <td>8</td>\n",
       "      <td>(7, 7)</td>\n",
       "      <td>0.9782</td>\n",
       "      <td>cnn 6</td>\n",
       "    </tr>\n",
       "    <tr>\n",
       "      <th>6</th>\n",
       "      <td>16</td>\n",
       "      <td>(3, 3)</td>\n",
       "      <td>0.9774</td>\n",
       "      <td>cnn 7</td>\n",
       "    </tr>\n",
       "    <tr>\n",
       "      <th>7</th>\n",
       "      <td>16</td>\n",
       "      <td>(5, 5)</td>\n",
       "      <td>0.9786</td>\n",
       "      <td>cnn 8</td>\n",
       "    </tr>\n",
       "    <tr>\n",
       "      <th>8</th>\n",
       "      <td>16</td>\n",
       "      <td>(7, 7)</td>\n",
       "      <td>0.9805</td>\n",
       "      <td>cnn 9</td>\n",
       "    </tr>\n",
       "  </tbody>\n",
       "</table>\n",
       "</div>"
      ],
      "text/plain": [
       "  Filters Kernel Size  Accuracy    CNN\n",
       "0       4      (3, 3)    0.9576  cnn 1\n",
       "1       4      (5, 5)    0.9673  cnn 2\n",
       "2       4      (7, 7)    0.9748  cnn 3\n",
       "3       8      (3, 3)    0.9728  cnn 4\n",
       "4       8      (5, 5)    0.9722  cnn 5\n",
       "5       8      (7, 7)    0.9782  cnn 6\n",
       "6      16      (3, 3)    0.9774  cnn 7\n",
       "7      16      (5, 5)    0.9786  cnn 8\n",
       "8      16      (7, 7)    0.9805  cnn 9"
      ]
     },
     "execution_count": 22,
     "metadata": {},
     "output_type": "execute_result"
    }
   ],
   "source": [
    "# Definir alguns hiperparâmetros para comparação\n",
    "filter_sizes = [4, 8, 16]\n",
    "kernel_sizes = [(3, 3), (5, 5), (7, 7)]\n",
    "results_cnn = []\n",
    "cnn = []\n",
    "id_cnn = 1\n",
    "\n",
    "# Loop para treinar a CNN com diferentes hiperparâmetros\n",
    "for filters in filter_sizes:\n",
    "    for kernel_size in kernel_sizes:\n",
    "        cnn_model = Sequential([\n",
    "            Conv2D(filters=filters, kernel_size=kernel_size, activation='relu', input_shape=(28, 28, 1)),\n",
    "            MaxPooling2D((2, 2)),\n",
    "            Flatten(),\n",
    "            Dense(128, activation='relu'),\n",
    "            Dense(10, activation='softmax')\n",
    "        ])\n",
    "\n",
    "        cnn_model.compile(optimizer='adam', loss='sparse_categorical_crossentropy', metrics=['accuracy'])\n",
    "\n",
    "        # Treinando o modelo\n",
    "        history = cnn_model.fit(X_mnist_train, y_mnist_train, epochs=1, batch_size=64, validation_data=(X_mnist_test, y_mnist_test), verbose=0)\n",
    "\n",
    "        # Acurácia final de validação\n",
    "        accuracy = history.history['val_accuracy'][-1]\n",
    "\n",
    "        # Armazenando os resultados\n",
    "        results_cnn.append((str(filters), str(kernel_size), accuracy, f\"cnn {id_cnn}\"))\n",
    "        id_cnn += 1\n",
    "\n",
    "# Converter resultados para DataFrame\n",
    "results_cnn_df = pd.DataFrame(results_cnn, columns=['Filters', 'Kernel Size', 'Accuracy', 'CNN'])\n",
    "\n",
    "# Plotar os gráficos de acurácia\n",
    "plt.figure(figsize=(12, 6))\n",
    "sns.barplot(x='CNN', y='Accuracy', data=results_cnn_df, palette=\"viridis\", orient='v', hue='CNN')\n",
    "\n",
    "# Formatar os rótulos do eixo X para exibir apenas 2 casas decimais\n",
    "plt.gca().set_xticklabels([f'{x:.2f}' for x in plt.gca().get_xticks()])\n",
    "\n",
    "plt.title('Comparação de Acurácia da CNN com Diferentes Hiperparâmetros')\n",
    "plt.ylabel('Acurácia')\n",
    "plt.xlabel('CNN')\n",
    "plt.show()\n",
    "\n",
    "results_cnn_df\n"
   ]
  }
 ],
 "metadata": {
  "accelerator": "GPU",
  "colab": {
   "gpuType": "T4",
   "provenance": []
  },
  "kernelspec": {
   "display_name": "Python 3",
   "name": "python3"
  },
  "language_info": {
   "codemirror_mode": {
    "name": "ipython",
    "version": 3
   },
   "file_extension": ".py",
   "mimetype": "text/x-python",
   "name": "python",
   "nbconvert_exporter": "python",
   "pygments_lexer": "ipython3",
   "version": "3.11.1"
  }
 },
 "nbformat": 4,
 "nbformat_minor": 0
}
