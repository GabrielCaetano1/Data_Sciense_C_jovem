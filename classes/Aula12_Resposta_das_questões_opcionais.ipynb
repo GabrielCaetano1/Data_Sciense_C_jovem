{
  "cells": [
    {
      "cell_type": "markdown",
      "metadata": {
        "id": "dxqqaxtzIW22"
      },
      "source": [
        "\n",
        "\n",
        "### **Análise de Otimizadores no Perceptron Simples**\n",
        "\n",
        "Você está trabalhando com o dataset **Breast Cancer Wisconsin**, que já está carregado e dividido em `X_train`, `X_test`, `y_train`, `y_test`. Sua tarefa é analisar o impacto de diferentes otimizadores no desempenho de um Perceptron Simples.\n",
        "\n",
        "\n",
        "1. **Estruture o modelo de Perceptron Simples**:\n",
        "   - Use a biblioteca Keras ou TensorFlow.\n",
        "   - Configure o modelo com:\n",
        "     - Uma camada densa de entrada que corresponda ao número de features do dataset.\n",
        "     - Uma única camada densa de saída com **1 unidade** e ativação `sigmoid` (para classificação binária).\n",
        "   \n",
        "2. **Varie o otimizador**:\n",
        "   - Treine o modelo usando **três otimizadores diferentes**:\n",
        "     - **SGD (Stochastic Gradient Descent)**\n",
        "     - **Adam**\n",
        "     - **RMSprop**\n",
        "   - Para cada otimizador, utilize:\n",
        "     - Função de perda: `binary_crossentropy`.\n",
        "     - Número de épocas: 20.\n",
        "     - Tamanho do batch: 32.\n",
        "\n",
        "3. **Avalie o modelo**:\n",
        "   - Para cada treinamento, registre a **acurácia no conjunto de teste** usando o método `.evaluate()`.\n",
        "\n",
        "4. **Visualize os resultados**:\n",
        "   - Plote um **gráfico de barras horizontal**, onde:\n",
        "     - O eixo Y exiba os nomes dos otimizadores (`SGD`, `Adam`, `RMSprop`).\n",
        "     - O eixo X mostre a acurácia obtida com cada otimizador.\n",
        "\n"
      ]
    },
    {
      "cell_type": "code",
      "execution_count": 7,
      "metadata": {
        "id": "GIbdxMEQIRAj"
      },
      "outputs": [],
      "source": [
        "# Importações das bibliotecas\n",
        "import matplotlib.pyplot as plt\n",
        "import numpy as np\n",
        "from tensorflow.keras.models import Sequential\n",
        "from tensorflow.keras.layers import Dense\n",
        "from tensorflow.keras.optimizers import SGD, Adam, RMSprop\n",
        "from tensorflow import keras\n",
        "from sklearn.preprocessing import StandardScaler\n",
        "from sklearn.model_selection import train_test_split\n",
        "\n",
        "# Comentário:\n",
        "# Nesta célula, importamos as bibliotecas necessárias para criar e treinar o modelo,\n",
        "# assim como para plotar o gráfico final.\n"
      ]
    },
    {
      "cell_type": "code",
      "execution_count": 8,
      "metadata": {
        "id": "QvLKJVBXJADW"
      },
      "outputs": [],
      "source": [
        "# Carregando o Breast Cancer Dataset\n",
        "from sklearn.datasets import load_breast_cancer\n",
        "breast_cancer = load_breast_cancer()\n",
        "X_cancer = breast_cancer.data\n",
        "y_cancer = breast_cancer.target\n",
        "# Pré-processamento\n",
        "scaler = StandardScaler()\n",
        "X_cancer_scaled = scaler.fit_transform(X_cancer)\n",
        "\n",
        "# Divisão de dados\n",
        "X_train, X_test, y_train, y_test = train_test_split(X_cancer_scaled, y_cancer, test_size=0.3, random_state=42)"
      ]
    },
    {
      "cell_type": "code",
      "execution_count": 9,
      "metadata": {
        "id": "pdQWXAchIy_b"
      },
      "outputs": [],
      "source": [
        "# Lista de otimizadores para teste\n",
        "optimizers = [(\"SGD\", SGD()), (\"Adam\", Adam()), (\"RMSprop\", RMSprop())]\n",
        "\n",
        "# Lista para armazenar os resultados de acurácia\n",
        "results = []\n",
        "\n",
        "# Comentário:\n",
        "# Definimos os otimizadores que serão testados: SGD, Adam e RMSprop.\n",
        "# Também inicializamos uma lista vazia para salvar os resultados (nome do otimizador e sua acurácia).\n"
      ]
    },
    {
      "cell_type": "code",
      "execution_count": 10,
      "metadata": {
        "colab": {
          "base_uri": "https://localhost:8080/"
        },
        "id": "f1g_511GI5bV",
        "outputId": "3e1de917-36dd-4205-9c4e-596fed4674ee"
      },
      "outputs": [
        {
          "name": "stderr",
          "output_type": "stream",
          "text": [
            "c:\\Users\\IvoAg\\AppData\\Local\\Programs\\Python\\Python311\\Lib\\site-packages\\keras\\src\\layers\\core\\dense.py:87: UserWarning: Do not pass an `input_shape`/`input_dim` argument to a layer. When using Sequential models, prefer using an `Input(shape)` object as the first layer in the model instead.\n",
            "  super().__init__(activity_regularizer=activity_regularizer, **kwargs)\n"
          ]
        }
      ],
      "source": [
        "# Loop para treinar o modelo com diferentes otimizadores\n",
        "for name, optimizer in optimizers:\n",
        "    # Definindo o modelo\n",
        "    model = Sequential([\n",
        "        Dense(30, activation='relu', input_shape=(X_train.shape[1],)),  # Camada densa com 30 neurônios\n",
        "        Dense(1, activation='sigmoid')  # Camada de saída com ativação sigmoid\n",
        "    ])\n",
        "\n",
        "    # Compilando o modelo com o otimizador atual\n",
        "    model.compile(optimizer=optimizer, loss='binary_crossentropy', metrics=['accuracy'])\n",
        "\n",
        "    # Treinando o modelo (20 épocas, batch size = 32)\n",
        "    model.fit(X_train, y_train, epochs=20, batch_size=32, verbose=0)\n",
        "\n",
        "    # Avaliando o modelo no conjunto de teste\n",
        "    loss, accuracy = model.evaluate(X_test, y_test, verbose=0)\n",
        "\n",
        "    # Armazenando os resultados (nome do otimizador e acurácia)\n",
        "    results.append((name, accuracy))\n",
        "\n",
        "# Comentário:\n",
        "# Este loop treina o modelo para cada otimizador na lista. O modelo tem uma camada densa com\n",
        "# 30 neurônios e ativação ReLU, e a camada de saída usa a ativação sigmoid para classificação binária.\n",
        "# A função de perda usada é binary_crossentropy.\n"
      ]
    },
    {
      "cell_type": "code",
      "execution_count": 11,
      "metadata": {
        "id": "PESPopFoKe07"
      },
      "outputs": [],
      "source": [
        "# Ordenando os resultados pela acurácia, do maior para o menor\n",
        "results = sorted(results, key=lambda x: x[1], reverse=True)\n",
        "\n",
        "# Separando os nomes dos otimizadores e suas acurácias\n",
        "names, accuracies = zip(*results)\n",
        "\n",
        "# Comentário:\n",
        "# Organizamos os resultados para que fiquem em ordem decrescente de acurácia,\n",
        "# facilitando a interpretação do gráfico que será gerado.\n"
      ]
    },
    {
      "cell_type": "code",
      "execution_count": 12,
      "metadata": {
        "colab": {
          "base_uri": "https://localhost:8080/",
          "height": 564
        },
        "id": "Yxp1WhMHKiAg",
        "outputId": "f51e8314-3bce-4451-a1d2-f38e98670f0e"
      },
      "outputs": [
        {
          "data": {
            "image/png": "[encoded data removed]",
            "text/plain": [
              "<Figure size 1000x600 with 1 Axes>"
            ]
          },
          "metadata": {},
          "output_type": "display_data"
        }
      ],
      "source": [
        "# Configuração do gráfico\n",
        "plt.figure(figsize=(10, 6))\n",
        "plt.barh(names, accuracies, color='skyblue')  # Gráfico de barras horizontal\n",
        "plt.xlabel('Acurácia')\n",
        "plt.ylabel('Otimizadores')\n",
        "plt.title('Comparação de Otimizadores no Perceptron Simples')\n",
        "plt.xlim(0, 1)  # Escala de acurácia entre 0 e 1\n",
        "\n",
        "# Exibindo valores de acurácia diretamente no gráfico\n",
        "for index, value in enumerate(accuracies):\n",
        "    plt.text(value + 0.01, index, f\"{value:.2f}\", va='center')\n",
        "\n",
        "# Exibindo o gráfico\n",
        "plt.show()\n",
        "\n",
        "# Comentário:\n",
        "# Nesta célula, criamos o gráfico de barras horizontal para comparar os otimizadores.\n",
        "# Cada barra representa a acurácia alcançada por um otimizador, com os valores exibidos ao lado.\n"
      ]
    },
    {
      "cell_type": "code",
      "execution_count": null,
      "metadata": {
        "id": "sJIor-KYI5SG"
      },
      "outputs": [],
      "source": []
    }
  ],
  "metadata": {
    "colab": {
      "provenance": []
    },
    "kernelspec": {
      "display_name": "Python 3",
      "name": "python3"
    },
    "language_info": {
      "codemirror_mode": {
        "name": "ipython",
        "version": 3
      },
      "file_extension": ".py",
      "mimetype": "text/x-python",
      "name": "python",
      "nbconvert_exporter": "python",
      "pygments_lexer": "ipython3",
      "version": "3.11.1"
    }
  },
  "nbformat": 4,
  "nbformat_minor": 0
}
